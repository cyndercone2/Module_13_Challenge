{
 "cells": [
  {
   "cell_type": "markdown",
   "metadata": {},
   "source": [
    "# Venture Funding with Deep Learning\n",
    "\n",
    "You work as a risk management associate at Alphabet Soup, a venture capital firm. Alphabet Soup’s business team receives many funding applications from startups every day. This team has asked you to help them create a model that predicts whether applicants will be successful if funded by Alphabet Soup.\n",
    "\n",
    "The business team has given you a CSV containing more than 34,000 organizations that have received funding from Alphabet Soup over the years. With your knowledge of machine learning and neural networks, you decide to use the features in the provided dataset to create a binary classifier model that will predict whether an applicant will become a successful business. The CSV file contains a variety of information about these businesses, including whether or not they ultimately became successful.\n",
    "\n",
    "## Instructions:\n",
    "\n",
    "The steps for this challenge are broken out into the following sections:\n",
    "\n",
    "* Prepare the data for use on a neural network model.\n",
    "\n",
    "* Compile and evaluate a binary classification model using a neural network.\n",
    "\n",
    "* Optimize the neural network model.\n",
    "\n",
    "### Prepare the Data for Use on a Neural Network Model \n",
    "\n",
    "Using your knowledge of Pandas and scikit-learn’s `StandardScaler()`, preprocess the dataset so that you can use it to compile and evaluate the neural network model later.\n",
    "\n",
    "Open the starter code file, and complete the following data preparation steps:\n",
    "\n",
    "1. Read the `applicants_data.csv` file into a Pandas DataFrame. Review the DataFrame, looking for categorical variables that will need to be encoded, as well as columns that could eventually define your features and target variables.   \n",
    "\n",
    "2. Drop the “EIN” (Employer Identification Number) and “NAME” columns from the DataFrame, because they are not relevant to the binary classification model.\n",
    " \n",
    "3. Encode the dataset’s categorical variables using `OneHotEncoder`, and then place the encoded variables into a new DataFrame.\n",
    "\n",
    "4. Add the original DataFrame’s numerical variables to the DataFrame containing the encoded variables.\n",
    "\n",
    "> **Note** To complete this step, you will employ the Pandas `concat()` function that was introduced earlier in this course. \n",
    "\n",
    "5. Using the preprocessed data, create the features (`X`) and target (`y`) datasets. The target dataset should be defined by the preprocessed DataFrame column “IS_SUCCESSFUL”. The remaining columns should define the features dataset. \n",
    "\n",
    "6. Split the features and target sets into training and testing datasets.\n",
    "\n",
    "7. Use scikit-learn's `StandardScaler` to scale the features data.\n",
    "\n",
    "### Compile and Evaluate a Binary Classification Model Using a Neural Network\n",
    "\n",
    "Use your knowledge of TensorFlow to design a binary classification deep neural network model. This model should use the dataset’s features to predict whether an Alphabet Soup&ndash;funded startup will be successful based on the features in the dataset. Consider the number of inputs before determining the number of layers that your model will contain or the number of neurons on each layer. Then, compile and fit your model. Finally, evaluate your binary classification model to calculate the model’s loss and accuracy. \n",
    " \n",
    "To do so, complete the following steps:\n",
    "\n",
    "1. Create a deep neural network by assigning the number of input features, the number of layers, and the number of neurons on each layer using Tensorflow’s Keras.\n",
    "\n",
    "> **Hint** You can start with a two-layer deep neural network model that uses the `relu` activation function for both layers.\n",
    "\n",
    "2. Compile and fit the model using the `binary_crossentropy` loss function, the `adam` optimizer, and the `accuracy` evaluation metric.\n",
    "\n",
    "> **Hint** When fitting the model, start with a small number of epochs, such as 20, 50, or 100.\n",
    "\n",
    "3. Evaluate the model using the test data to determine the model’s loss and accuracy.\n",
    "\n",
    "4. Save and export your model to an HDF5 file, and name the file `AlphabetSoup.h5`. \n",
    "\n",
    "### Optimize the Neural Network Model\n",
    "\n",
    "Using your knowledge of TensorFlow and Keras, optimize your model to improve the model's accuracy. Even if you do not successfully achieve a better accuracy, you'll need to demonstrate at least two attempts to optimize the model. You can include these attempts in your existing notebook. Or, you can make copies of the starter notebook in the same folder, rename them, and code each model optimization in a new notebook. \n",
    "\n",
    "> **Note** You will not lose points if your model does not achieve a high accuracy, as long as you make at least two attempts to optimize the model.\n",
    "\n",
    "To do so, complete the following steps:\n",
    "\n",
    "1. Define at least three new deep neural network models (the original plus 2 optimization attempts). With each, try to improve on your first model’s predictive accuracy.\n",
    "\n",
    "> **Rewind** Recall that perfect accuracy has a value of 1, so accuracy improves as its value moves closer to 1. To optimize your model for a predictive accuracy as close to 1 as possible, you can use any or all of the following techniques:\n",
    ">\n",
    "> * Adjust the input data by dropping different features columns to ensure that no variables or outliers confuse the model.\n",
    ">\n",
    "> * Add more neurons (nodes) to a hidden layer.\n",
    ">\n",
    "> * Add more hidden layers.\n",
    ">\n",
    "> * Use different activation functions for the hidden layers.\n",
    ">\n",
    "> * Add to or reduce the number of epochs in the training regimen.\n",
    "\n",
    "2. After finishing your models, display the accuracy scores achieved by each model, and compare the results.\n",
    "\n",
    "3. Save each of your models as an HDF5 file.\n"
   ]
  },
  {
   "cell_type": "code",
   "execution_count": 1,
   "metadata": {},
   "outputs": [
    {
     "name": "stdout",
     "output_type": "stream",
     "text": [
      "Requirement already satisfied: pandas in /Users/cynthiadavis/opt/anaconda3/envs/tensorflow/lib/python3.7/site-packages (1.3.5)\n",
      "Requirement already satisfied: python-dateutil>=2.7.3 in /Users/cynthiadavis/opt/anaconda3/envs/tensorflow/lib/python3.7/site-packages (from pandas) (2.8.2)\n",
      "Requirement already satisfied: pytz>=2017.3 in /Users/cynthiadavis/opt/anaconda3/envs/tensorflow/lib/python3.7/site-packages (from pandas) (2022.1)\n",
      "Requirement already satisfied: numpy>=1.17.3 in /Users/cynthiadavis/opt/anaconda3/envs/tensorflow/lib/python3.7/site-packages (from pandas) (1.21.5)\n",
      "Requirement already satisfied: six>=1.5 in /Users/cynthiadavis/opt/anaconda3/envs/tensorflow/lib/python3.7/site-packages (from python-dateutil>=2.7.3->pandas) (1.16.0)\n"
     ]
    }
   ],
   "source": [
    "!pip install pandas"
   ]
  },
  {
   "cell_type": "code",
   "execution_count": 3,
   "metadata": {},
   "outputs": [],
   "source": [
    "# Imports\n",
    "import pandas as pd\n",
    "from pathlib import Path\n",
    "import tensorflow as tf\n",
    "from tensorflow.keras.layers import Dense\n",
    "from tensorflow.keras.models import Sequential\n",
    "from sklearn.model_selection import train_test_split\n",
    "from sklearn.preprocessing import StandardScaler,OneHotEncoder"
   ]
  },
  {
   "cell_type": "markdown",
   "metadata": {},
   "source": [
    "---\n",
    "\n",
    "## Prepare the data to be used on a neural network model"
   ]
  },
  {
   "cell_type": "markdown",
   "metadata": {},
   "source": [
    "### Step 1: Read the `applicants_data.csv` file into a Pandas DataFrame. Review the DataFrame, looking for categorical variables that will need to be encoded, as well as columns that could eventually define your features and target variables.  \n"
   ]
  },
  {
   "cell_type": "code",
   "execution_count": null,
   "metadata": {},
   "outputs": [],
   "source": [
    "# Read the applicants_data.csv file from the Resources folder into a Pandas DataFrame\n",
    "applicant_data_df = pd.read_csv(\"Resources/applicants_data.csv\")\n",
    "\n",
    "# Review the DataFrame\n",
    "applicant_data_df.head()\n"
   ]
  },
  {
   "cell_type": "code",
   "execution_count": 6,
   "metadata": {},
   "outputs": [
    {
     "name": "stdout",
     "output_type": "stream",
     "text": [
      "<class 'pandas.core.frame.DataFrame'>\n",
      "RangeIndex: 34299 entries, 0 to 34298\n",
      "Data columns (total 12 columns):\n",
      " #   Column                  Non-Null Count  Dtype \n",
      "---  ------                  --------------  ----- \n",
      " 0   EIN                     34299 non-null  int64 \n",
      " 1   NAME                    34299 non-null  object\n",
      " 2   APPLICATION_TYPE        34299 non-null  object\n",
      " 3   AFFILIATION             34299 non-null  object\n",
      " 4   CLASSIFICATION          34299 non-null  object\n",
      " 5   USE_CASE                34299 non-null  object\n",
      " 6   ORGANIZATION            34299 non-null  object\n",
      " 7   STATUS                  34299 non-null  int64 \n",
      " 8   INCOME_AMT              34299 non-null  object\n",
      " 9   SPECIAL_CONSIDERATIONS  34299 non-null  object\n",
      " 10  ASK_AMT                 34299 non-null  int64 \n",
      " 11  IS_SUCCESSFUL           34299 non-null  int64 \n",
      "dtypes: int64(4), object(8)\n",
      "memory usage: 3.1+ MB\n"
     ]
    }
   ],
   "source": [
    "# Review the data types associated with the columns\n",
    "applicant_data_df.info()\n"
   ]
  },
  {
   "cell_type": "markdown",
   "metadata": {},
   "source": [
    "### Step 2: Drop the “EIN” (Employer Identification Number) and “NAME” columns from the DataFrame, because they are not relevant to the binary classification model."
   ]
  },
  {
   "cell_type": "code",
   "execution_count": 7,
   "metadata": {},
   "outputs": [
    {
     "data": {
      "text/html": [
       "<div>\n",
       "<style scoped>\n",
       "    .dataframe tbody tr th:only-of-type {\n",
       "        vertical-align: middle;\n",
       "    }\n",
       "\n",
       "    .dataframe tbody tr th {\n",
       "        vertical-align: top;\n",
       "    }\n",
       "\n",
       "    .dataframe thead th {\n",
       "        text-align: right;\n",
       "    }\n",
       "</style>\n",
       "<table border=\"1\" class=\"dataframe\">\n",
       "  <thead>\n",
       "    <tr style=\"text-align: right;\">\n",
       "      <th></th>\n",
       "      <th>APPLICATION_TYPE</th>\n",
       "      <th>AFFILIATION</th>\n",
       "      <th>CLASSIFICATION</th>\n",
       "      <th>USE_CASE</th>\n",
       "      <th>ORGANIZATION</th>\n",
       "      <th>STATUS</th>\n",
       "      <th>INCOME_AMT</th>\n",
       "      <th>SPECIAL_CONSIDERATIONS</th>\n",
       "      <th>ASK_AMT</th>\n",
       "      <th>IS_SUCCESSFUL</th>\n",
       "    </tr>\n",
       "  </thead>\n",
       "  <tbody>\n",
       "    <tr>\n",
       "      <th>0</th>\n",
       "      <td>T10</td>\n",
       "      <td>Independent</td>\n",
       "      <td>C1000</td>\n",
       "      <td>ProductDev</td>\n",
       "      <td>Association</td>\n",
       "      <td>1</td>\n",
       "      <td>0</td>\n",
       "      <td>N</td>\n",
       "      <td>5000</td>\n",
       "      <td>1</td>\n",
       "    </tr>\n",
       "    <tr>\n",
       "      <th>1</th>\n",
       "      <td>T3</td>\n",
       "      <td>Independent</td>\n",
       "      <td>C2000</td>\n",
       "      <td>Preservation</td>\n",
       "      <td>Co-operative</td>\n",
       "      <td>1</td>\n",
       "      <td>1-9999</td>\n",
       "      <td>N</td>\n",
       "      <td>108590</td>\n",
       "      <td>1</td>\n",
       "    </tr>\n",
       "    <tr>\n",
       "      <th>2</th>\n",
       "      <td>T5</td>\n",
       "      <td>CompanySponsored</td>\n",
       "      <td>C3000</td>\n",
       "      <td>ProductDev</td>\n",
       "      <td>Association</td>\n",
       "      <td>1</td>\n",
       "      <td>0</td>\n",
       "      <td>N</td>\n",
       "      <td>5000</td>\n",
       "      <td>0</td>\n",
       "    </tr>\n",
       "    <tr>\n",
       "      <th>3</th>\n",
       "      <td>T3</td>\n",
       "      <td>CompanySponsored</td>\n",
       "      <td>C2000</td>\n",
       "      <td>Preservation</td>\n",
       "      <td>Trust</td>\n",
       "      <td>1</td>\n",
       "      <td>10000-24999</td>\n",
       "      <td>N</td>\n",
       "      <td>6692</td>\n",
       "      <td>1</td>\n",
       "    </tr>\n",
       "    <tr>\n",
       "      <th>4</th>\n",
       "      <td>T3</td>\n",
       "      <td>Independent</td>\n",
       "      <td>C1000</td>\n",
       "      <td>Heathcare</td>\n",
       "      <td>Trust</td>\n",
       "      <td>1</td>\n",
       "      <td>100000-499999</td>\n",
       "      <td>N</td>\n",
       "      <td>142590</td>\n",
       "      <td>1</td>\n",
       "    </tr>\n",
       "  </tbody>\n",
       "</table>\n",
       "</div>"
      ],
      "text/plain": [
       "  APPLICATION_TYPE       AFFILIATION CLASSIFICATION      USE_CASE  \\\n",
       "0              T10       Independent          C1000    ProductDev   \n",
       "1               T3       Independent          C2000  Preservation   \n",
       "2               T5  CompanySponsored          C3000    ProductDev   \n",
       "3               T3  CompanySponsored          C2000  Preservation   \n",
       "4               T3       Independent          C1000     Heathcare   \n",
       "\n",
       "   ORGANIZATION  STATUS     INCOME_AMT SPECIAL_CONSIDERATIONS  ASK_AMT  \\\n",
       "0   Association       1              0                      N     5000   \n",
       "1  Co-operative       1         1-9999                      N   108590   \n",
       "2   Association       1              0                      N     5000   \n",
       "3         Trust       1    10000-24999                      N     6692   \n",
       "4         Trust       1  100000-499999                      N   142590   \n",
       "\n",
       "   IS_SUCCESSFUL  \n",
       "0              1  \n",
       "1              1  \n",
       "2              0  \n",
       "3              1  \n",
       "4              1  "
      ]
     },
     "execution_count": 7,
     "metadata": {},
     "output_type": "execute_result"
    }
   ],
   "source": [
    "# Drop the 'EIN' and 'NAME' columns from the DataFrame\n",
    "applicant_data_df =  applicant_data_df.drop(columns=['EIN', 'NAME'])\n",
    "# Review the DataFrame\n",
    "applicant_data_df.head()\n"
   ]
  },
  {
   "cell_type": "markdown",
   "metadata": {},
   "source": [
    "### Step 3: Encode the dataset’s categorical variables using `OneHotEncoder`, and then place the encoded variables into a new DataFrame."
   ]
  },
  {
   "cell_type": "code",
   "execution_count": 38,
   "metadata": {},
   "outputs": [
    {
     "data": {
      "text/plain": [
       "['APPLICATION_TYPE',\n",
       " 'AFFILIATION',\n",
       " 'CLASSIFICATION',\n",
       " 'USE_CASE',\n",
       " 'ORGANIZATION']"
      ]
     },
     "execution_count": 38,
     "metadata": {},
     "output_type": "execute_result"
    }
   ],
   "source": [
    "# Create a list of categorical variables \n",
    "categorical_variables = [\n",
    "        'APPLICATION_TYPE',\n",
    "        'AFFILIATION',\n",
    "        'CLASSIFICATION',\n",
    "        'USE_CASE',\n",
    "        'ORGANIZATION',\n",
    "    ]\n",
    "\n",
    "# Display the categorical variables list\n",
    "categorical_variables\n"
   ]
  },
  {
   "cell_type": "code",
   "execution_count": 69,
   "metadata": {},
   "outputs": [],
   "source": [
    "# Create a OneHotEncoder instance\n",
    "enc = OneHotEncoder(sparse=False)\n"
   ]
  },
  {
   "cell_type": "code",
   "execution_count": 77,
   "metadata": {},
   "outputs": [
    {
     "data": {
      "text/html": [
       "<div>\n",
       "<style scoped>\n",
       "    .dataframe tbody tr th:only-of-type {\n",
       "        vertical-align: middle;\n",
       "    }\n",
       "\n",
       "    .dataframe tbody tr th {\n",
       "        vertical-align: top;\n",
       "    }\n",
       "\n",
       "    .dataframe thead th {\n",
       "        text-align: right;\n",
       "    }\n",
       "</style>\n",
       "<table border=\"1\" class=\"dataframe\">\n",
       "  <thead>\n",
       "    <tr style=\"text-align: right;\">\n",
       "      <th></th>\n",
       "      <th>APPLICATION_TYPE_T10</th>\n",
       "      <th>APPLICATION_TYPE_T3</th>\n",
       "      <th>APPLICATION_TYPE_T5</th>\n",
       "      <th>APPLICATION_TYPE_T7</th>\n",
       "      <th>APPLICATION_TYPE_T4</th>\n",
       "      <th>APPLICATION_TYPE_T6</th>\n",
       "      <th>APPLICATION_TYPE_T2</th>\n",
       "      <th>APPLICATION_TYPE_T9</th>\n",
       "      <th>APPLICATION_TYPE_T19</th>\n",
       "      <th>APPLICATION_TYPE_T8</th>\n",
       "      <th>...</th>\n",
       "      <th>CLASSIFICATION_C2150</th>\n",
       "      <th>USE_CASE_ProductDev</th>\n",
       "      <th>USE_CASE_Preservation</th>\n",
       "      <th>USE_CASE_Heathcare</th>\n",
       "      <th>USE_CASE_CommunityServ</th>\n",
       "      <th>USE_CASE_Other</th>\n",
       "      <th>ORGANIZATION_Association</th>\n",
       "      <th>ORGANIZATION_Co-operative</th>\n",
       "      <th>ORGANIZATION_Trust</th>\n",
       "      <th>ORGANIZATION_Corporation</th>\n",
       "    </tr>\n",
       "  </thead>\n",
       "  <tbody>\n",
       "    <tr>\n",
       "      <th>0</th>\n",
       "      <td>1.0</td>\n",
       "      <td>0.0</td>\n",
       "      <td>0.0</td>\n",
       "      <td>0.0</td>\n",
       "      <td>0.0</td>\n",
       "      <td>0.0</td>\n",
       "      <td>0.0</td>\n",
       "      <td>0.0</td>\n",
       "      <td>0.0</td>\n",
       "      <td>0.0</td>\n",
       "      <td>...</td>\n",
       "      <td>0.0</td>\n",
       "      <td>0.0</td>\n",
       "      <td>0.0</td>\n",
       "      <td>0.0</td>\n",
       "      <td>0.0</td>\n",
       "      <td>1.0</td>\n",
       "      <td>1.0</td>\n",
       "      <td>0.0</td>\n",
       "      <td>0.0</td>\n",
       "      <td>0.0</td>\n",
       "    </tr>\n",
       "    <tr>\n",
       "      <th>1</th>\n",
       "      <td>0.0</td>\n",
       "      <td>0.0</td>\n",
       "      <td>0.0</td>\n",
       "      <td>0.0</td>\n",
       "      <td>0.0</td>\n",
       "      <td>0.0</td>\n",
       "      <td>0.0</td>\n",
       "      <td>0.0</td>\n",
       "      <td>0.0</td>\n",
       "      <td>0.0</td>\n",
       "      <td>...</td>\n",
       "      <td>0.0</td>\n",
       "      <td>0.0</td>\n",
       "      <td>0.0</td>\n",
       "      <td>0.0</td>\n",
       "      <td>1.0</td>\n",
       "      <td>0.0</td>\n",
       "      <td>0.0</td>\n",
       "      <td>1.0</td>\n",
       "      <td>0.0</td>\n",
       "      <td>0.0</td>\n",
       "    </tr>\n",
       "    <tr>\n",
       "      <th>2</th>\n",
       "      <td>0.0</td>\n",
       "      <td>0.0</td>\n",
       "      <td>0.0</td>\n",
       "      <td>0.0</td>\n",
       "      <td>0.0</td>\n",
       "      <td>0.0</td>\n",
       "      <td>0.0</td>\n",
       "      <td>0.0</td>\n",
       "      <td>0.0</td>\n",
       "      <td>0.0</td>\n",
       "      <td>...</td>\n",
       "      <td>0.0</td>\n",
       "      <td>0.0</td>\n",
       "      <td>0.0</td>\n",
       "      <td>0.0</td>\n",
       "      <td>0.0</td>\n",
       "      <td>1.0</td>\n",
       "      <td>1.0</td>\n",
       "      <td>0.0</td>\n",
       "      <td>0.0</td>\n",
       "      <td>0.0</td>\n",
       "    </tr>\n",
       "    <tr>\n",
       "      <th>3</th>\n",
       "      <td>0.0</td>\n",
       "      <td>0.0</td>\n",
       "      <td>0.0</td>\n",
       "      <td>0.0</td>\n",
       "      <td>0.0</td>\n",
       "      <td>0.0</td>\n",
       "      <td>0.0</td>\n",
       "      <td>0.0</td>\n",
       "      <td>0.0</td>\n",
       "      <td>0.0</td>\n",
       "      <td>...</td>\n",
       "      <td>0.0</td>\n",
       "      <td>0.0</td>\n",
       "      <td>0.0</td>\n",
       "      <td>0.0</td>\n",
       "      <td>1.0</td>\n",
       "      <td>0.0</td>\n",
       "      <td>0.0</td>\n",
       "      <td>0.0</td>\n",
       "      <td>0.0</td>\n",
       "      <td>1.0</td>\n",
       "    </tr>\n",
       "    <tr>\n",
       "      <th>4</th>\n",
       "      <td>0.0</td>\n",
       "      <td>0.0</td>\n",
       "      <td>0.0</td>\n",
       "      <td>0.0</td>\n",
       "      <td>0.0</td>\n",
       "      <td>0.0</td>\n",
       "      <td>0.0</td>\n",
       "      <td>0.0</td>\n",
       "      <td>0.0</td>\n",
       "      <td>0.0</td>\n",
       "      <td>...</td>\n",
       "      <td>0.0</td>\n",
       "      <td>0.0</td>\n",
       "      <td>1.0</td>\n",
       "      <td>0.0</td>\n",
       "      <td>0.0</td>\n",
       "      <td>0.0</td>\n",
       "      <td>0.0</td>\n",
       "      <td>0.0</td>\n",
       "      <td>0.0</td>\n",
       "      <td>1.0</td>\n",
       "    </tr>\n",
       "  </tbody>\n",
       "</table>\n",
       "<p>5 rows × 103 columns</p>\n",
       "</div>"
      ],
      "text/plain": [
       "   APPLICATION_TYPE_T10  APPLICATION_TYPE_T3  APPLICATION_TYPE_T5  \\\n",
       "0                   1.0                  0.0                  0.0   \n",
       "1                   0.0                  0.0                  0.0   \n",
       "2                   0.0                  0.0                  0.0   \n",
       "3                   0.0                  0.0                  0.0   \n",
       "4                   0.0                  0.0                  0.0   \n",
       "\n",
       "   APPLICATION_TYPE_T7  APPLICATION_TYPE_T4  APPLICATION_TYPE_T6  \\\n",
       "0                  0.0                  0.0                  0.0   \n",
       "1                  0.0                  0.0                  0.0   \n",
       "2                  0.0                  0.0                  0.0   \n",
       "3                  0.0                  0.0                  0.0   \n",
       "4                  0.0                  0.0                  0.0   \n",
       "\n",
       "   APPLICATION_TYPE_T2  APPLICATION_TYPE_T9  APPLICATION_TYPE_T19  \\\n",
       "0                  0.0                  0.0                   0.0   \n",
       "1                  0.0                  0.0                   0.0   \n",
       "2                  0.0                  0.0                   0.0   \n",
       "3                  0.0                  0.0                   0.0   \n",
       "4                  0.0                  0.0                   0.0   \n",
       "\n",
       "   APPLICATION_TYPE_T8  ...  CLASSIFICATION_C2150  USE_CASE_ProductDev  \\\n",
       "0                  0.0  ...                   0.0                  0.0   \n",
       "1                  0.0  ...                   0.0                  0.0   \n",
       "2                  0.0  ...                   0.0                  0.0   \n",
       "3                  0.0  ...                   0.0                  0.0   \n",
       "4                  0.0  ...                   0.0                  0.0   \n",
       "\n",
       "   USE_CASE_Preservation  USE_CASE_Heathcare  USE_CASE_CommunityServ  \\\n",
       "0                    0.0                 0.0                     0.0   \n",
       "1                    0.0                 0.0                     1.0   \n",
       "2                    0.0                 0.0                     0.0   \n",
       "3                    0.0                 0.0                     1.0   \n",
       "4                    1.0                 0.0                     0.0   \n",
       "\n",
       "   USE_CASE_Other  ORGANIZATION_Association  ORGANIZATION_Co-operative  \\\n",
       "0             1.0                       1.0                        0.0   \n",
       "1             0.0                       0.0                        1.0   \n",
       "2             1.0                       1.0                        0.0   \n",
       "3             0.0                       0.0                        0.0   \n",
       "4             0.0                       0.0                        0.0   \n",
       "\n",
       "   ORGANIZATION_Trust  ORGANIZATION_Corporation  \n",
       "0                 0.0                       0.0  \n",
       "1                 0.0                       0.0  \n",
       "2                 0.0                       0.0  \n",
       "3                 0.0                       1.0  \n",
       "4                 0.0                       1.0  \n",
       "\n",
       "[5 rows x 103 columns]"
      ]
     },
     "execution_count": 77,
     "metadata": {},
     "output_type": "execute_result"
    }
   ],
   "source": [
    "# Encode the categorcal variables using OneHotEncoder\n",
    "\n",
    "encoded_data = enc.fit_transform(applicant_data_df[categorical_variables])\n",
    "\n",
    "# Creat one hot categorical columns\n",
    "cat_cols_encoded = []\n",
    "for col in categorical_variables:\n",
    "    cat_cols_encoded += [f\"{col}_{cat}\" for cat in list(applicant_data_df[col].unique())]\n",
    "\n",
    "encoded_data.shape\n",
    "len(cat_cols_encoded)\n",
    "# Create a DataFrame with the encoded variables\n",
    "encoded_df = pd.DataFrame(encoded_data, columns=cat_cols_encoded)\n",
    "\n",
    "# Review the DataFrame\n",
    "encoded_df.head()\n"
   ]
  },
  {
   "cell_type": "markdown",
   "metadata": {},
   "source": []
  },
  {
   "cell_type": "markdown",
   "metadata": {},
   "source": [
    "### Step 4: Add the original DataFrame’s numerical variables to the DataFrame containing the encoded variables.\n",
    "\n",
    "> **Note** To complete this step, you will employ the Pandas `concat()` function that was introduced earlier in this course. "
   ]
  },
  {
   "cell_type": "code",
   "execution_count": 79,
   "metadata": {},
   "outputs": [
    {
     "data": {
      "text/plain": [
       "['APPLICATION_TYPE',\n",
       " 'AFFILIATION',\n",
       " 'CLASSIFICATION',\n",
       " 'USE_CASE',\n",
       " 'ORGANIZATION']"
      ]
     },
     "execution_count": 79,
     "metadata": {},
     "output_type": "execute_result"
    }
   ],
   "source": [
    "categorical_variables"
   ]
  },
  {
   "cell_type": "code",
   "execution_count": 80,
   "metadata": {},
   "outputs": [
    {
     "data": {
      "text/plain": [
       "array([1, 0])"
      ]
     },
     "execution_count": 80,
     "metadata": {},
     "output_type": "execute_result"
    }
   ],
   "source": [
    "applicant_data_df['STATUS'].unique()"
   ]
  },
  {
   "cell_type": "code",
   "execution_count": 81,
   "metadata": {},
   "outputs": [
    {
     "data": {
      "text/html": [
       "<div>\n",
       "<style scoped>\n",
       "    .dataframe tbody tr th:only-of-type {\n",
       "        vertical-align: middle;\n",
       "    }\n",
       "\n",
       "    .dataframe tbody tr th {\n",
       "        vertical-align: top;\n",
       "    }\n",
       "\n",
       "    .dataframe thead th {\n",
       "        text-align: right;\n",
       "    }\n",
       "</style>\n",
       "<table border=\"1\" class=\"dataframe\">\n",
       "  <thead>\n",
       "    <tr style=\"text-align: right;\">\n",
       "      <th></th>\n",
       "      <th>APPLICATION_TYPE_T10</th>\n",
       "      <th>APPLICATION_TYPE_T3</th>\n",
       "      <th>APPLICATION_TYPE_T5</th>\n",
       "      <th>APPLICATION_TYPE_T7</th>\n",
       "      <th>APPLICATION_TYPE_T4</th>\n",
       "      <th>APPLICATION_TYPE_T6</th>\n",
       "      <th>APPLICATION_TYPE_T2</th>\n",
       "      <th>APPLICATION_TYPE_T9</th>\n",
       "      <th>APPLICATION_TYPE_T19</th>\n",
       "      <th>APPLICATION_TYPE_T8</th>\n",
       "      <th>...</th>\n",
       "      <th>USE_CASE_Heathcare</th>\n",
       "      <th>USE_CASE_CommunityServ</th>\n",
       "      <th>USE_CASE_Other</th>\n",
       "      <th>ORGANIZATION_Association</th>\n",
       "      <th>ORGANIZATION_Co-operative</th>\n",
       "      <th>ORGANIZATION_Trust</th>\n",
       "      <th>ORGANIZATION_Corporation</th>\n",
       "      <th>STATUS</th>\n",
       "      <th>ASK_AMT</th>\n",
       "      <th>IS_SUCCESSFUL</th>\n",
       "    </tr>\n",
       "  </thead>\n",
       "  <tbody>\n",
       "    <tr>\n",
       "      <th>0</th>\n",
       "      <td>1.0</td>\n",
       "      <td>0.0</td>\n",
       "      <td>0.0</td>\n",
       "      <td>0.0</td>\n",
       "      <td>0.0</td>\n",
       "      <td>0.0</td>\n",
       "      <td>0.0</td>\n",
       "      <td>0.0</td>\n",
       "      <td>0.0</td>\n",
       "      <td>0.0</td>\n",
       "      <td>...</td>\n",
       "      <td>0.0</td>\n",
       "      <td>0.0</td>\n",
       "      <td>1.0</td>\n",
       "      <td>1.0</td>\n",
       "      <td>0.0</td>\n",
       "      <td>0.0</td>\n",
       "      <td>0.0</td>\n",
       "      <td>1</td>\n",
       "      <td>5000</td>\n",
       "      <td>1</td>\n",
       "    </tr>\n",
       "    <tr>\n",
       "      <th>1</th>\n",
       "      <td>0.0</td>\n",
       "      <td>0.0</td>\n",
       "      <td>0.0</td>\n",
       "      <td>0.0</td>\n",
       "      <td>0.0</td>\n",
       "      <td>0.0</td>\n",
       "      <td>0.0</td>\n",
       "      <td>0.0</td>\n",
       "      <td>0.0</td>\n",
       "      <td>0.0</td>\n",
       "      <td>...</td>\n",
       "      <td>0.0</td>\n",
       "      <td>1.0</td>\n",
       "      <td>0.0</td>\n",
       "      <td>0.0</td>\n",
       "      <td>1.0</td>\n",
       "      <td>0.0</td>\n",
       "      <td>0.0</td>\n",
       "      <td>1</td>\n",
       "      <td>108590</td>\n",
       "      <td>1</td>\n",
       "    </tr>\n",
       "    <tr>\n",
       "      <th>2</th>\n",
       "      <td>0.0</td>\n",
       "      <td>0.0</td>\n",
       "      <td>0.0</td>\n",
       "      <td>0.0</td>\n",
       "      <td>0.0</td>\n",
       "      <td>0.0</td>\n",
       "      <td>0.0</td>\n",
       "      <td>0.0</td>\n",
       "      <td>0.0</td>\n",
       "      <td>0.0</td>\n",
       "      <td>...</td>\n",
       "      <td>0.0</td>\n",
       "      <td>0.0</td>\n",
       "      <td>1.0</td>\n",
       "      <td>1.0</td>\n",
       "      <td>0.0</td>\n",
       "      <td>0.0</td>\n",
       "      <td>0.0</td>\n",
       "      <td>1</td>\n",
       "      <td>5000</td>\n",
       "      <td>0</td>\n",
       "    </tr>\n",
       "    <tr>\n",
       "      <th>3</th>\n",
       "      <td>0.0</td>\n",
       "      <td>0.0</td>\n",
       "      <td>0.0</td>\n",
       "      <td>0.0</td>\n",
       "      <td>0.0</td>\n",
       "      <td>0.0</td>\n",
       "      <td>0.0</td>\n",
       "      <td>0.0</td>\n",
       "      <td>0.0</td>\n",
       "      <td>0.0</td>\n",
       "      <td>...</td>\n",
       "      <td>0.0</td>\n",
       "      <td>1.0</td>\n",
       "      <td>0.0</td>\n",
       "      <td>0.0</td>\n",
       "      <td>0.0</td>\n",
       "      <td>0.0</td>\n",
       "      <td>1.0</td>\n",
       "      <td>1</td>\n",
       "      <td>6692</td>\n",
       "      <td>1</td>\n",
       "    </tr>\n",
       "    <tr>\n",
       "      <th>4</th>\n",
       "      <td>0.0</td>\n",
       "      <td>0.0</td>\n",
       "      <td>0.0</td>\n",
       "      <td>0.0</td>\n",
       "      <td>0.0</td>\n",
       "      <td>0.0</td>\n",
       "      <td>0.0</td>\n",
       "      <td>0.0</td>\n",
       "      <td>0.0</td>\n",
       "      <td>0.0</td>\n",
       "      <td>...</td>\n",
       "      <td>0.0</td>\n",
       "      <td>0.0</td>\n",
       "      <td>0.0</td>\n",
       "      <td>0.0</td>\n",
       "      <td>0.0</td>\n",
       "      <td>0.0</td>\n",
       "      <td>1.0</td>\n",
       "      <td>1</td>\n",
       "      <td>142590</td>\n",
       "      <td>1</td>\n",
       "    </tr>\n",
       "  </tbody>\n",
       "</table>\n",
       "<p>5 rows × 106 columns</p>\n",
       "</div>"
      ],
      "text/plain": [
       "   APPLICATION_TYPE_T10  APPLICATION_TYPE_T3  APPLICATION_TYPE_T5  \\\n",
       "0                   1.0                  0.0                  0.0   \n",
       "1                   0.0                  0.0                  0.0   \n",
       "2                   0.0                  0.0                  0.0   \n",
       "3                   0.0                  0.0                  0.0   \n",
       "4                   0.0                  0.0                  0.0   \n",
       "\n",
       "   APPLICATION_TYPE_T7  APPLICATION_TYPE_T4  APPLICATION_TYPE_T6  \\\n",
       "0                  0.0                  0.0                  0.0   \n",
       "1                  0.0                  0.0                  0.0   \n",
       "2                  0.0                  0.0                  0.0   \n",
       "3                  0.0                  0.0                  0.0   \n",
       "4                  0.0                  0.0                  0.0   \n",
       "\n",
       "   APPLICATION_TYPE_T2  APPLICATION_TYPE_T9  APPLICATION_TYPE_T19  \\\n",
       "0                  0.0                  0.0                   0.0   \n",
       "1                  0.0                  0.0                   0.0   \n",
       "2                  0.0                  0.0                   0.0   \n",
       "3                  0.0                  0.0                   0.0   \n",
       "4                  0.0                  0.0                   0.0   \n",
       "\n",
       "   APPLICATION_TYPE_T8  ...  USE_CASE_Heathcare  USE_CASE_CommunityServ  \\\n",
       "0                  0.0  ...                 0.0                     0.0   \n",
       "1                  0.0  ...                 0.0                     1.0   \n",
       "2                  0.0  ...                 0.0                     0.0   \n",
       "3                  0.0  ...                 0.0                     1.0   \n",
       "4                  0.0  ...                 0.0                     0.0   \n",
       "\n",
       "   USE_CASE_Other  ORGANIZATION_Association  ORGANIZATION_Co-operative  \\\n",
       "0             1.0                       1.0                        0.0   \n",
       "1             0.0                       0.0                        1.0   \n",
       "2             1.0                       1.0                        0.0   \n",
       "3             0.0                       0.0                        0.0   \n",
       "4             0.0                       0.0                        0.0   \n",
       "\n",
       "   ORGANIZATION_Trust  ORGANIZATION_Corporation  STATUS  ASK_AMT  \\\n",
       "0                 0.0                       0.0       1     5000   \n",
       "1                 0.0                       0.0       1   108590   \n",
       "2                 0.0                       0.0       1     5000   \n",
       "3                 0.0                       1.0       1     6692   \n",
       "4                 0.0                       1.0       1   142590   \n",
       "\n",
       "   IS_SUCCESSFUL  \n",
       "0              1  \n",
       "1              1  \n",
       "2              0  \n",
       "3              1  \n",
       "4              1  \n",
       "\n",
       "[5 rows x 106 columns]"
      ]
     },
     "execution_count": 81,
     "metadata": {},
     "output_type": "execute_result"
    }
   ],
   "source": [
    "# Add the numerical variables from the original DataFrame to the one-hot encoding DataFrame\n",
    "numerical_variables = [\n",
    "    'STATUS', \n",
    "    'ASK_AMT',\n",
    "    'IS_SUCCESSFUL'\n",
    "]\n",
    "encoded_df = pd.concat([encoded_df, applicant_data_df[numerical_variables]], axis=1)\n",
    "\n",
    "# Review the Dataframe\n",
    "encoded_df.head()"
   ]
  },
  {
   "cell_type": "markdown",
   "metadata": {},
   "source": [
    "### Step 5: Using the preprocessed data, create the features (`X`) and target (`y`) datasets. The target dataset should be defined by the preprocessed DataFrame column “IS_SUCCESSFUL”. The remaining columns should define the features dataset. \n",
    "\n"
   ]
  },
  {
   "cell_type": "code",
   "execution_count": 82,
   "metadata": {},
   "outputs": [
    {
     "data": {
      "text/plain": [
       "0    1\n",
       "1    1\n",
       "2    0\n",
       "3    1\n",
       "4    1\n",
       "Name: IS_SUCCESSFUL, dtype: int64"
      ]
     },
     "execution_count": 82,
     "metadata": {},
     "output_type": "execute_result"
    }
   ],
   "source": [
    "# Define the target set y using the IS_SUCCESSFUL column\n",
    "y = encoded_df[\"IS_SUCCESSFUL\"]\n",
    "\n",
    "# Display a sample of y\n",
    "y.head()\n"
   ]
  },
  {
   "cell_type": "code",
   "execution_count": 83,
   "metadata": {},
   "outputs": [
    {
     "data": {
      "text/html": [
       "<div>\n",
       "<style scoped>\n",
       "    .dataframe tbody tr th:only-of-type {\n",
       "        vertical-align: middle;\n",
       "    }\n",
       "\n",
       "    .dataframe tbody tr th {\n",
       "        vertical-align: top;\n",
       "    }\n",
       "\n",
       "    .dataframe thead th {\n",
       "        text-align: right;\n",
       "    }\n",
       "</style>\n",
       "<table border=\"1\" class=\"dataframe\">\n",
       "  <thead>\n",
       "    <tr style=\"text-align: right;\">\n",
       "      <th></th>\n",
       "      <th>APPLICATION_TYPE_T10</th>\n",
       "      <th>APPLICATION_TYPE_T3</th>\n",
       "      <th>APPLICATION_TYPE_T5</th>\n",
       "      <th>APPLICATION_TYPE_T7</th>\n",
       "      <th>APPLICATION_TYPE_T4</th>\n",
       "      <th>APPLICATION_TYPE_T6</th>\n",
       "      <th>APPLICATION_TYPE_T2</th>\n",
       "      <th>APPLICATION_TYPE_T9</th>\n",
       "      <th>APPLICATION_TYPE_T19</th>\n",
       "      <th>APPLICATION_TYPE_T8</th>\n",
       "      <th>...</th>\n",
       "      <th>USE_CASE_Preservation</th>\n",
       "      <th>USE_CASE_Heathcare</th>\n",
       "      <th>USE_CASE_CommunityServ</th>\n",
       "      <th>USE_CASE_Other</th>\n",
       "      <th>ORGANIZATION_Association</th>\n",
       "      <th>ORGANIZATION_Co-operative</th>\n",
       "      <th>ORGANIZATION_Trust</th>\n",
       "      <th>ORGANIZATION_Corporation</th>\n",
       "      <th>STATUS</th>\n",
       "      <th>ASK_AMT</th>\n",
       "    </tr>\n",
       "  </thead>\n",
       "  <tbody>\n",
       "    <tr>\n",
       "      <th>0</th>\n",
       "      <td>1.0</td>\n",
       "      <td>0.0</td>\n",
       "      <td>0.0</td>\n",
       "      <td>0.0</td>\n",
       "      <td>0.0</td>\n",
       "      <td>0.0</td>\n",
       "      <td>0.0</td>\n",
       "      <td>0.0</td>\n",
       "      <td>0.0</td>\n",
       "      <td>0.0</td>\n",
       "      <td>...</td>\n",
       "      <td>0.0</td>\n",
       "      <td>0.0</td>\n",
       "      <td>0.0</td>\n",
       "      <td>1.0</td>\n",
       "      <td>1.0</td>\n",
       "      <td>0.0</td>\n",
       "      <td>0.0</td>\n",
       "      <td>0.0</td>\n",
       "      <td>1</td>\n",
       "      <td>5000</td>\n",
       "    </tr>\n",
       "    <tr>\n",
       "      <th>1</th>\n",
       "      <td>0.0</td>\n",
       "      <td>0.0</td>\n",
       "      <td>0.0</td>\n",
       "      <td>0.0</td>\n",
       "      <td>0.0</td>\n",
       "      <td>0.0</td>\n",
       "      <td>0.0</td>\n",
       "      <td>0.0</td>\n",
       "      <td>0.0</td>\n",
       "      <td>0.0</td>\n",
       "      <td>...</td>\n",
       "      <td>0.0</td>\n",
       "      <td>0.0</td>\n",
       "      <td>1.0</td>\n",
       "      <td>0.0</td>\n",
       "      <td>0.0</td>\n",
       "      <td>1.0</td>\n",
       "      <td>0.0</td>\n",
       "      <td>0.0</td>\n",
       "      <td>1</td>\n",
       "      <td>108590</td>\n",
       "    </tr>\n",
       "    <tr>\n",
       "      <th>2</th>\n",
       "      <td>0.0</td>\n",
       "      <td>0.0</td>\n",
       "      <td>0.0</td>\n",
       "      <td>0.0</td>\n",
       "      <td>0.0</td>\n",
       "      <td>0.0</td>\n",
       "      <td>0.0</td>\n",
       "      <td>0.0</td>\n",
       "      <td>0.0</td>\n",
       "      <td>0.0</td>\n",
       "      <td>...</td>\n",
       "      <td>0.0</td>\n",
       "      <td>0.0</td>\n",
       "      <td>0.0</td>\n",
       "      <td>1.0</td>\n",
       "      <td>1.0</td>\n",
       "      <td>0.0</td>\n",
       "      <td>0.0</td>\n",
       "      <td>0.0</td>\n",
       "      <td>1</td>\n",
       "      <td>5000</td>\n",
       "    </tr>\n",
       "    <tr>\n",
       "      <th>3</th>\n",
       "      <td>0.0</td>\n",
       "      <td>0.0</td>\n",
       "      <td>0.0</td>\n",
       "      <td>0.0</td>\n",
       "      <td>0.0</td>\n",
       "      <td>0.0</td>\n",
       "      <td>0.0</td>\n",
       "      <td>0.0</td>\n",
       "      <td>0.0</td>\n",
       "      <td>0.0</td>\n",
       "      <td>...</td>\n",
       "      <td>0.0</td>\n",
       "      <td>0.0</td>\n",
       "      <td>1.0</td>\n",
       "      <td>0.0</td>\n",
       "      <td>0.0</td>\n",
       "      <td>0.0</td>\n",
       "      <td>0.0</td>\n",
       "      <td>1.0</td>\n",
       "      <td>1</td>\n",
       "      <td>6692</td>\n",
       "    </tr>\n",
       "    <tr>\n",
       "      <th>4</th>\n",
       "      <td>0.0</td>\n",
       "      <td>0.0</td>\n",
       "      <td>0.0</td>\n",
       "      <td>0.0</td>\n",
       "      <td>0.0</td>\n",
       "      <td>0.0</td>\n",
       "      <td>0.0</td>\n",
       "      <td>0.0</td>\n",
       "      <td>0.0</td>\n",
       "      <td>0.0</td>\n",
       "      <td>...</td>\n",
       "      <td>1.0</td>\n",
       "      <td>0.0</td>\n",
       "      <td>0.0</td>\n",
       "      <td>0.0</td>\n",
       "      <td>0.0</td>\n",
       "      <td>0.0</td>\n",
       "      <td>0.0</td>\n",
       "      <td>1.0</td>\n",
       "      <td>1</td>\n",
       "      <td>142590</td>\n",
       "    </tr>\n",
       "  </tbody>\n",
       "</table>\n",
       "<p>5 rows × 105 columns</p>\n",
       "</div>"
      ],
      "text/plain": [
       "   APPLICATION_TYPE_T10  APPLICATION_TYPE_T3  APPLICATION_TYPE_T5  \\\n",
       "0                   1.0                  0.0                  0.0   \n",
       "1                   0.0                  0.0                  0.0   \n",
       "2                   0.0                  0.0                  0.0   \n",
       "3                   0.0                  0.0                  0.0   \n",
       "4                   0.0                  0.0                  0.0   \n",
       "\n",
       "   APPLICATION_TYPE_T7  APPLICATION_TYPE_T4  APPLICATION_TYPE_T6  \\\n",
       "0                  0.0                  0.0                  0.0   \n",
       "1                  0.0                  0.0                  0.0   \n",
       "2                  0.0                  0.0                  0.0   \n",
       "3                  0.0                  0.0                  0.0   \n",
       "4                  0.0                  0.0                  0.0   \n",
       "\n",
       "   APPLICATION_TYPE_T2  APPLICATION_TYPE_T9  APPLICATION_TYPE_T19  \\\n",
       "0                  0.0                  0.0                   0.0   \n",
       "1                  0.0                  0.0                   0.0   \n",
       "2                  0.0                  0.0                   0.0   \n",
       "3                  0.0                  0.0                   0.0   \n",
       "4                  0.0                  0.0                   0.0   \n",
       "\n",
       "   APPLICATION_TYPE_T8  ...  USE_CASE_Preservation  USE_CASE_Heathcare  \\\n",
       "0                  0.0  ...                    0.0                 0.0   \n",
       "1                  0.0  ...                    0.0                 0.0   \n",
       "2                  0.0  ...                    0.0                 0.0   \n",
       "3                  0.0  ...                    0.0                 0.0   \n",
       "4                  0.0  ...                    1.0                 0.0   \n",
       "\n",
       "   USE_CASE_CommunityServ  USE_CASE_Other  ORGANIZATION_Association  \\\n",
       "0                     0.0             1.0                       1.0   \n",
       "1                     1.0             0.0                       0.0   \n",
       "2                     0.0             1.0                       1.0   \n",
       "3                     1.0             0.0                       0.0   \n",
       "4                     0.0             0.0                       0.0   \n",
       "\n",
       "   ORGANIZATION_Co-operative  ORGANIZATION_Trust  ORGANIZATION_Corporation  \\\n",
       "0                        0.0                 0.0                       0.0   \n",
       "1                        1.0                 0.0                       0.0   \n",
       "2                        0.0                 0.0                       0.0   \n",
       "3                        0.0                 0.0                       1.0   \n",
       "4                        0.0                 0.0                       1.0   \n",
       "\n",
       "   STATUS  ASK_AMT  \n",
       "0       1     5000  \n",
       "1       1   108590  \n",
       "2       1     5000  \n",
       "3       1     6692  \n",
       "4       1   142590  \n",
       "\n",
       "[5 rows x 105 columns]"
      ]
     },
     "execution_count": 83,
     "metadata": {},
     "output_type": "execute_result"
    }
   ],
   "source": [
    "# Define features set X by selecting all columns but IS_SUCCESSFUL\n",
    "X = encoded_df.drop(columns= \"IS_SUCCESSFUL\")\n",
    "\n",
    "# Review the features DataFrame\n",
    "X.head()\n"
   ]
  },
  {
   "cell_type": "markdown",
   "metadata": {},
   "source": [
    "### Step 6: Split the features and target sets into training and testing datasets.\n"
   ]
  },
  {
   "cell_type": "code",
   "execution_count": 84,
   "metadata": {},
   "outputs": [],
   "source": [
    "# Split the preprocessed data into a training and testing dataset\n",
    "# Assign the function a random_state equal to 1\n",
    "X_train, X_test, y_train, y_test = train_test_split(X,y, random_state = 1)\n"
   ]
  },
  {
   "cell_type": "markdown",
   "metadata": {},
   "source": [
    "### Step 7: Use scikit-learn's `StandardScaler` to scale the features data."
   ]
  },
  {
   "cell_type": "code",
   "execution_count": 85,
   "metadata": {},
   "outputs": [],
   "source": [
    "# Create a StandardScaler instance\n",
    "scaler = StandardScaler()\n",
    "\n",
    "# Fit the scaler to the features training dataset\n",
    "X_scaler = scaler.fit(X_train)\n",
    "\n",
    "# Fit the scaler to the features training dataset\n",
    "X_train_scaled = X_scaler.transform(X_train)\n",
    "X_test_scaled = X_scaler.transform(X_test)\n"
   ]
  },
  {
   "cell_type": "markdown",
   "metadata": {},
   "source": [
    "---\n",
    "\n",
    "## Compile and Evaluate a Binary Classification Model Using a Neural Network"
   ]
  },
  {
   "cell_type": "markdown",
   "metadata": {},
   "source": [
    "### Step 1: Create a deep neural network by assigning the number of input features, the number of layers, and the number of neurons on each layer using Tensorflow’s Keras.\n",
    "\n",
    "> **Hint** You can start with a two-layer deep neural network model that uses the `relu` activation function for both layers.\n"
   ]
  },
  {
   "cell_type": "code",
   "execution_count": 91,
   "metadata": {},
   "outputs": [
    {
     "name": "stdout",
     "output_type": "stream",
     "text": [
      "Model: \"sequential_11\"\n",
      "_________________________________________________________________\n",
      "Layer (type)                 Output Shape              Param #   \n",
      "=================================================================\n",
      "dense_12 (Dense)             (None, 1)                 106       \n",
      "=================================================================\n",
      "Total params: 106\n",
      "Trainable params: 106\n",
      "Non-trainable params: 0\n",
      "_________________________________________________________________\n"
     ]
    }
   ],
   "source": [
    "# Define the the number of inputs (features) to the model\n",
    "nm  = Sequential()\n",
    "# number_input_features = nm.add(Dense(units = 1, input_dim = X.shape[1], activation = \"relu\"))\n",
    "nm.add(Dense(units = 1, input_dim = X.shape[1], activation = \"relu\"))\n",
    "# Review the number of features\n",
    "nm.summary()\n"
   ]
  },
  {
   "cell_type": "code",
   "execution_count": 94,
   "metadata": {},
   "outputs": [],
   "source": [
    "# Define the number of neurons in the output layer\n",
    "# number_output_neurons =  number_input_features.add(Dense(units = 1, activation = \"sigmoid\"))\n",
    "nm.add(Dense(units = 1, activation = \"sigmoid\"))"
   ]
  },
  {
   "cell_type": "code",
   "execution_count": 95,
   "metadata": {},
   "outputs": [
    {
     "name": "stdout",
     "output_type": "stream",
     "text": [
      "Model: \"sequential_11\"\n",
      "_________________________________________________________________\n",
      "Layer (type)                 Output Shape              Param #   \n",
      "=================================================================\n",
      "dense_12 (Dense)             (None, 1)                 106       \n",
      "_________________________________________________________________\n",
      "dense_13 (Dense)             (None, 1)                 2         \n",
      "=================================================================\n",
      "Total params: 108\n",
      "Trainable params: 108\n",
      "Non-trainable params: 0\n",
      "_________________________________________________________________\n"
     ]
    }
   ],
   "source": [
    "nm.summary()"
   ]
  },
  {
   "cell_type": "code",
   "execution_count": null,
   "metadata": {},
   "outputs": [],
   "source": [
    "# Define the number of hidden nodes for the first hidden layer\n",
    "hidden_nodes_layer1 =  # YOUR CODE HERE\n",
    "\n",
    "# Review the number hidden nodes in the first layer\n",
    "hidden_nodes_layer1\n"
   ]
  },
  {
   "cell_type": "code",
   "execution_count": null,
   "metadata": {},
   "outputs": [],
   "source": [
    "# Define the number of hidden nodes for the second hidden layer\n",
    "hidden_nodes_layer2 =  # YOUR CODE HERE\n",
    "\n",
    "# Review the number hidden nodes in the second layer\n",
    "hidden_nodes_layer2\n"
   ]
  },
  {
   "cell_type": "code",
   "execution_count": null,
   "metadata": {},
   "outputs": [],
   "source": [
    "# Create the Sequential model instance\n",
    "nn = # YOUR CODE HERE\n"
   ]
  },
  {
   "cell_type": "code",
   "execution_count": null,
   "metadata": {},
   "outputs": [],
   "source": [
    "# Add the first hidden layer\n",
    "# YOUR CODE HERE\n"
   ]
  },
  {
   "cell_type": "code",
   "execution_count": null,
   "metadata": {},
   "outputs": [],
   "source": [
    "# Add the second hidden layer\n",
    "# YOUR CODE HERE\n"
   ]
  },
  {
   "cell_type": "code",
   "execution_count": null,
   "metadata": {},
   "outputs": [],
   "source": [
    "# Add the output layer to the model specifying the number of output neurons and activation function\n",
    "# YOUR CODE HERE\n"
   ]
  },
  {
   "cell_type": "code",
   "execution_count": null,
   "metadata": {},
   "outputs": [],
   "source": [
    "# Display the Sequential model summary\n",
    "# YOUR CODE HERE\n"
   ]
  },
  {
   "cell_type": "markdown",
   "metadata": {},
   "source": [
    "### Step 2: Compile and fit the model using the `binary_crossentropy` loss function, the `adam` optimizer, and the `accuracy` evaluation metric.\n"
   ]
  },
  {
   "cell_type": "code",
   "execution_count": 97,
   "metadata": {},
   "outputs": [],
   "source": [
    "# Compile the Sequential model\n",
    "# YOUR CODE HERE\n",
    "nm.compile(\n",
    "    loss=\"binary_crossentropy\",\n",
    "    optimizer=\"adam\",\n",
    "    metrics=[\"accuracy\",\n",
    "    tf.keras.metrics.TruePositives(name = \"tp\"),\n",
    "    tf.keras.metrics.TrueNegatives(name = \"tn\"),\n",
    "    tf.keras.metrics.FalsePositives(name = \"fp\"),\n",
    "    tf.keras.metrics.FalseNegatives(name = \"fn\"),\n",
    "    tf.keras.metrics.Precision(name = \"precision\"),\n",
    "    tf.keras.metrics.Recall(name = \"recall\"),\n",
    "    tf.keras.metrics.AUC(name = \"auc\")]\n",
    ")"
   ]
  },
  {
   "cell_type": "code",
   "execution_count": 103,
   "metadata": {},
   "outputs": [
    {
     "name": "stdout",
     "output_type": "stream",
     "text": [
      "WARNING:tensorflow:Falling back from v2 loop because of error: Failed to find data adapter that can handle input: <class 'pandas.core.frame.DataFrame'>, <class 'NoneType'>\n",
      "Train on 25724 samples\n",
      "Epoch 1/50\n",
      "25724/25724 [==============================] - 0s 10us/sample - loss: 8.2288 - accuracy: 0.4665 - tp: 0.0000e+00 - tn: 12001.0000 - fp: 0.0000e+00 - fn: 13723.0000 - precision: 0.0000e+00 - recall: 0.0000e+00 - auc: 0.5000\n",
      "Epoch 2/50\n",
      "25724/25724 [==============================] - 0s 8us/sample - loss: 8.2288 - accuracy: 0.4665 - tp: 0.0000e+00 - tn: 12001.0000 - fp: 0.0000e+00 - fn: 13723.0000 - precision: 0.0000e+00 - recall: 0.0000e+00 - auc: 0.5000\n",
      "Epoch 3/50\n",
      "25724/25724 [==============================] - 0s 8us/sample - loss: 8.2288 - accuracy: 0.4665 - tp: 0.0000e+00 - tn: 12001.0000 - fp: 0.0000e+00 - fn: 13723.0000 - precision: 0.0000e+00 - recall: 0.0000e+00 - auc: 0.5000\n",
      "Epoch 4/50\n",
      "25724/25724 [==============================] - 0s 8us/sample - loss: 8.2288 - accuracy: 0.4665 - tp: 0.0000e+00 - tn: 12001.0000 - fp: 0.0000e+00 - fn: 13723.0000 - precision: 0.0000e+00 - recall: 0.0000e+00 - auc: 0.5000\n",
      "Epoch 5/50\n",
      "25724/25724 [==============================] - 0s 9us/sample - loss: 8.2288 - accuracy: 0.4665 - tp: 0.0000e+00 - tn: 12001.0000 - fp: 0.0000e+00 - fn: 13723.0000 - precision: 0.0000e+00 - recall: 0.0000e+00 - auc: 0.5000\n",
      "Epoch 6/50\n",
      "25724/25724 [==============================] - 0s 8us/sample - loss: 8.2288 - accuracy: 0.4665 - tp: 0.0000e+00 - tn: 12001.0000 - fp: 0.0000e+00 - fn: 13723.0000 - precision: 0.0000e+00 - recall: 0.0000e+00 - auc: 0.5000\n",
      "Epoch 7/50\n",
      "25724/25724 [==============================] - 0s 8us/sample - loss: 8.2288 - accuracy: 0.4665 - tp: 0.0000e+00 - tn: 12001.0000 - fp: 0.0000e+00 - fn: 13723.0000 - precision: 0.0000e+00 - recall: 0.0000e+00 - auc: 0.5000\n",
      "Epoch 8/50\n",
      "25724/25724 [==============================] - 0s 8us/sample - loss: 8.2288 - accuracy: 0.4665 - tp: 0.0000e+00 - tn: 12001.0000 - fp: 0.0000e+00 - fn: 13723.0000 - precision: 0.0000e+00 - recall: 0.0000e+00 - auc: 0.5000\n",
      "Epoch 9/50\n",
      "25724/25724 [==============================] - 0s 8us/sample - loss: 8.2288 - accuracy: 0.4665 - tp: 0.0000e+00 - tn: 12001.0000 - fp: 0.0000e+00 - fn: 13723.0000 - precision: 0.0000e+00 - recall: 0.0000e+00 - auc: 0.5000\n",
      "Epoch 10/50\n",
      "25724/25724 [==============================] - 0s 8us/sample - loss: 8.2288 - accuracy: 0.4665 - tp: 0.0000e+00 - tn: 12001.0000 - fp: 0.0000e+00 - fn: 13723.0000 - precision: 0.0000e+00 - recall: 0.0000e+00 - auc: 0.5000\n",
      "Epoch 11/50\n",
      "25724/25724 [==============================] - 0s 8us/sample - loss: 8.2288 - accuracy: 0.4665 - tp: 0.0000e+00 - tn: 12001.0000 - fp: 0.0000e+00 - fn: 13723.0000 - precision: 0.0000e+00 - recall: 0.0000e+00 - auc: 0.5000\n",
      "Epoch 12/50\n",
      "25724/25724 [==============================] - 0s 8us/sample - loss: 8.2288 - accuracy: 0.4665 - tp: 0.0000e+00 - tn: 12001.0000 - fp: 0.0000e+00 - fn: 13723.0000 - precision: 0.0000e+00 - recall: 0.0000e+00 - auc: 0.5000\n",
      "Epoch 13/50\n",
      "25724/25724 [==============================] - 0s 8us/sample - loss: 8.2288 - accuracy: 0.4665 - tp: 0.0000e+00 - tn: 12001.0000 - fp: 0.0000e+00 - fn: 13723.0000 - precision: 0.0000e+00 - recall: 0.0000e+00 - auc: 0.5000\n",
      "Epoch 14/50\n",
      "25724/25724 [==============================] - 0s 8us/sample - loss: 8.2288 - accuracy: 0.4665 - tp: 0.0000e+00 - tn: 12001.0000 - fp: 0.0000e+00 - fn: 13723.0000 - precision: 0.0000e+00 - recall: 0.0000e+00 - auc: 0.5000\n",
      "Epoch 15/50\n",
      "25724/25724 [==============================] - 0s 8us/sample - loss: 8.2288 - accuracy: 0.4665 - tp: 0.0000e+00 - tn: 12001.0000 - fp: 0.0000e+00 - fn: 13723.0000 - precision: 0.0000e+00 - recall: 0.0000e+00 - auc: 0.5000\n",
      "Epoch 16/50\n",
      "25724/25724 [==============================] - 0s 8us/sample - loss: 8.2288 - accuracy: 0.4665 - tp: 0.0000e+00 - tn: 12001.0000 - fp: 0.0000e+00 - fn: 13723.0000 - precision: 0.0000e+00 - recall: 0.0000e+00 - auc: 0.5000\n",
      "Epoch 17/50\n",
      "25724/25724 [==============================] - 0s 8us/sample - loss: 8.2288 - accuracy: 0.4665 - tp: 0.0000e+00 - tn: 12001.0000 - fp: 0.0000e+00 - fn: 13723.0000 - precision: 0.0000e+00 - recall: 0.0000e+00 - auc: 0.5000\n",
      "Epoch 18/50\n",
      "25724/25724 [==============================] - 0s 8us/sample - loss: 8.2288 - accuracy: 0.4665 - tp: 0.0000e+00 - tn: 12001.0000 - fp: 0.0000e+00 - fn: 13723.0000 - precision: 0.0000e+00 - recall: 0.0000e+00 - auc: 0.5000\n",
      "Epoch 19/50\n",
      "25724/25724 [==============================] - 0s 8us/sample - loss: 8.2288 - accuracy: 0.4665 - tp: 0.0000e+00 - tn: 12001.0000 - fp: 0.0000e+00 - fn: 13723.0000 - precision: 0.0000e+00 - recall: 0.0000e+00 - auc: 0.5000\n",
      "Epoch 20/50\n",
      "25724/25724 [==============================] - 0s 8us/sample - loss: 8.2288 - accuracy: 0.4665 - tp: 0.0000e+00 - tn: 12001.0000 - fp: 0.0000e+00 - fn: 13723.0000 - precision: 0.0000e+00 - recall: 0.0000e+00 - auc: 0.5000\n",
      "Epoch 21/50\n",
      "25724/25724 [==============================] - 0s 9us/sample - loss: 8.2288 - accuracy: 0.4665 - tp: 0.0000e+00 - tn: 12001.0000 - fp: 0.0000e+00 - fn: 13723.0000 - precision: 0.0000e+00 - recall: 0.0000e+00 - auc: 0.5000\n",
      "Epoch 22/50\n",
      "25724/25724 [==============================] - 0s 8us/sample - loss: 8.2288 - accuracy: 0.4665 - tp: 0.0000e+00 - tn: 12001.0000 - fp: 0.0000e+00 - fn: 13723.0000 - precision: 0.0000e+00 - recall: 0.0000e+00 - auc: 0.5000\n",
      "Epoch 23/50\n",
      "25724/25724 [==============================] - 0s 8us/sample - loss: 8.2288 - accuracy: 0.4665 - tp: 0.0000e+00 - tn: 12001.0000 - fp: 0.0000e+00 - fn: 13723.0000 - precision: 0.0000e+00 - recall: 0.0000e+00 - auc: 0.5000\n",
      "Epoch 24/50\n",
      "25724/25724 [==============================] - 0s 8us/sample - loss: 8.2288 - accuracy: 0.4665 - tp: 0.0000e+00 - tn: 12001.0000 - fp: 0.0000e+00 - fn: 13723.0000 - precision: 0.0000e+00 - recall: 0.0000e+00 - auc: 0.5000\n",
      "Epoch 25/50\n",
      "25724/25724 [==============================] - 0s 8us/sample - loss: 8.2288 - accuracy: 0.4665 - tp: 0.0000e+00 - tn: 12001.0000 - fp: 0.0000e+00 - fn: 13723.0000 - precision: 0.0000e+00 - recall: 0.0000e+00 - auc: 0.5000\n",
      "Epoch 26/50\n",
      "25724/25724 [==============================] - 0s 8us/sample - loss: 8.2288 - accuracy: 0.4665 - tp: 0.0000e+00 - tn: 12001.0000 - fp: 0.0000e+00 - fn: 13723.0000 - precision: 0.0000e+00 - recall: 0.0000e+00 - auc: 0.5000\n",
      "Epoch 27/50\n",
      "25724/25724 [==============================] - 0s 8us/sample - loss: 8.2288 - accuracy: 0.4665 - tp: 0.0000e+00 - tn: 12001.0000 - fp: 0.0000e+00 - fn: 13723.0000 - precision: 0.0000e+00 - recall: 0.0000e+00 - auc: 0.5000\n",
      "Epoch 28/50\n",
      "25724/25724 [==============================] - 0s 8us/sample - loss: 8.2288 - accuracy: 0.4665 - tp: 0.0000e+00 - tn: 12001.0000 - fp: 0.0000e+00 - fn: 13723.0000 - precision: 0.0000e+00 - recall: 0.0000e+00 - auc: 0.5000\n",
      "Epoch 29/50\n",
      "25724/25724 [==============================] - 0s 8us/sample - loss: 8.2288 - accuracy: 0.4665 - tp: 0.0000e+00 - tn: 12001.0000 - fp: 0.0000e+00 - fn: 13723.0000 - precision: 0.0000e+00 - recall: 0.0000e+00 - auc: 0.5000\n",
      "Epoch 30/50\n",
      "25724/25724 [==============================] - 0s 8us/sample - loss: 8.2288 - accuracy: 0.4665 - tp: 0.0000e+00 - tn: 12001.0000 - fp: 0.0000e+00 - fn: 13723.0000 - precision: 0.0000e+00 - recall: 0.0000e+00 - auc: 0.5000\n",
      "Epoch 31/50\n",
      "25724/25724 [==============================] - 0s 8us/sample - loss: 8.2288 - accuracy: 0.4665 - tp: 0.0000e+00 - tn: 12001.0000 - fp: 0.0000e+00 - fn: 13723.0000 - precision: 0.0000e+00 - recall: 0.0000e+00 - auc: 0.5000\n",
      "Epoch 32/50\n",
      "25724/25724 [==============================] - 0s 8us/sample - loss: 8.2288 - accuracy: 0.4665 - tp: 0.0000e+00 - tn: 12001.0000 - fp: 0.0000e+00 - fn: 13723.0000 - precision: 0.0000e+00 - recall: 0.0000e+00 - auc: 0.5000\n",
      "Epoch 33/50\n",
      "25724/25724 [==============================] - 0s 8us/sample - loss: 8.2288 - accuracy: 0.4665 - tp: 0.0000e+00 - tn: 12001.0000 - fp: 0.0000e+00 - fn: 13723.0000 - precision: 0.0000e+00 - recall: 0.0000e+00 - auc: 0.5000\n",
      "Epoch 34/50\n",
      "25724/25724 [==============================] - 0s 8us/sample - loss: 8.2288 - accuracy: 0.4665 - tp: 0.0000e+00 - tn: 12001.0000 - fp: 0.0000e+00 - fn: 13723.0000 - precision: 0.0000e+00 - recall: 0.0000e+00 - auc: 0.5000\n",
      "Epoch 35/50\n",
      "25724/25724 [==============================] - 0s 8us/sample - loss: 8.2288 - accuracy: 0.4665 - tp: 0.0000e+00 - tn: 12001.0000 - fp: 0.0000e+00 - fn: 13723.0000 - precision: 0.0000e+00 - recall: 0.0000e+00 - auc: 0.5000\n",
      "Epoch 36/50\n",
      "25724/25724 [==============================] - 0s 8us/sample - loss: 8.2288 - accuracy: 0.4665 - tp: 0.0000e+00 - tn: 12001.0000 - fp: 0.0000e+00 - fn: 13723.0000 - precision: 0.0000e+00 - recall: 0.0000e+00 - auc: 0.5000\n",
      "Epoch 37/50\n",
      "25724/25724 [==============================] - 0s 8us/sample - loss: 8.2288 - accuracy: 0.4665 - tp: 0.0000e+00 - tn: 12001.0000 - fp: 0.0000e+00 - fn: 13723.0000 - precision: 0.0000e+00 - recall: 0.0000e+00 - auc: 0.5000\n",
      "Epoch 38/50\n",
      "25724/25724 [==============================] - 0s 8us/sample - loss: 8.2288 - accuracy: 0.4665 - tp: 0.0000e+00 - tn: 12001.0000 - fp: 0.0000e+00 - fn: 13723.0000 - precision: 0.0000e+00 - recall: 0.0000e+00 - auc: 0.5000\n",
      "Epoch 39/50\n",
      "25724/25724 [==============================] - 0s 8us/sample - loss: 8.2288 - accuracy: 0.4665 - tp: 0.0000e+00 - tn: 12001.0000 - fp: 0.0000e+00 - fn: 13723.0000 - precision: 0.0000e+00 - recall: 0.0000e+00 - auc: 0.5000\n",
      "Epoch 40/50\n",
      "25724/25724 [==============================] - 0s 8us/sample - loss: 8.2288 - accuracy: 0.4665 - tp: 0.0000e+00 - tn: 12001.0000 - fp: 0.0000e+00 - fn: 13723.0000 - precision: 0.0000e+00 - recall: 0.0000e+00 - auc: 0.5000\n",
      "Epoch 41/50\n",
      "25724/25724 [==============================] - 0s 8us/sample - loss: 8.2288 - accuracy: 0.4665 - tp: 0.0000e+00 - tn: 12001.0000 - fp: 0.0000e+00 - fn: 13723.0000 - precision: 0.0000e+00 - recall: 0.0000e+00 - auc: 0.5000\n",
      "Epoch 42/50\n",
      "25724/25724 [==============================] - 0s 8us/sample - loss: 8.2288 - accuracy: 0.4665 - tp: 0.0000e+00 - tn: 12001.0000 - fp: 0.0000e+00 - fn: 13723.0000 - precision: 0.0000e+00 - recall: 0.0000e+00 - auc: 0.5000\n",
      "Epoch 43/50\n",
      "25724/25724 [==============================] - 0s 8us/sample - loss: 8.2288 - accuracy: 0.4665 - tp: 0.0000e+00 - tn: 12001.0000 - fp: 0.0000e+00 - fn: 13723.0000 - precision: 0.0000e+00 - recall: 0.0000e+00 - auc: 0.5000\n",
      "Epoch 44/50\n",
      "25724/25724 [==============================] - 0s 8us/sample - loss: 8.2288 - accuracy: 0.4665 - tp: 0.0000e+00 - tn: 12001.0000 - fp: 0.0000e+00 - fn: 13723.0000 - precision: 0.0000e+00 - recall: 0.0000e+00 - auc: 0.5000\n",
      "Epoch 45/50\n",
      "25724/25724 [==============================] - 0s 9us/sample - loss: 8.2288 - accuracy: 0.4665 - tp: 0.0000e+00 - tn: 12001.0000 - fp: 0.0000e+00 - fn: 13723.0000 - precision: 0.0000e+00 - recall: 0.0000e+00 - auc: 0.5000\n",
      "Epoch 46/50\n",
      "25724/25724 [==============================] - 0s 8us/sample - loss: 8.2288 - accuracy: 0.4665 - tp: 0.0000e+00 - tn: 12001.0000 - fp: 0.0000e+00 - fn: 13723.0000 - precision: 0.0000e+00 - recall: 0.0000e+00 - auc: 0.5000\n",
      "Epoch 47/50\n",
      "25724/25724 [==============================] - 0s 8us/sample - loss: 8.2288 - accuracy: 0.4665 - tp: 0.0000e+00 - tn: 12001.0000 - fp: 0.0000e+00 - fn: 13723.0000 - precision: 0.0000e+00 - recall: 0.0000e+00 - auc: 0.5000\n",
      "Epoch 48/50\n",
      "25724/25724 [==============================] - 0s 8us/sample - loss: 8.2288 - accuracy: 0.4665 - tp: 0.0000e+00 - tn: 12001.0000 - fp: 0.0000e+00 - fn: 13723.0000 - precision: 0.0000e+00 - recall: 0.0000e+00 - auc: 0.5000\n",
      "Epoch 49/50\n",
      "25724/25724 [==============================] - 0s 8us/sample - loss: 8.2288 - accuracy: 0.4665 - tp: 0.0000e+00 - tn: 12001.0000 - fp: 0.0000e+00 - fn: 13723.0000 - precision: 0.0000e+00 - recall: 0.0000e+00 - auc: 0.5000\n",
      "Epoch 50/50\n",
      "25724/25724 [==============================] - 0s 8us/sample - loss: 8.2288 - accuracy: 0.4665 - tp: 0.0000e+00 - tn: 12001.0000 - fp: 0.0000e+00 - fn: 13723.0000 - precision: 0.0000e+00 - recall: 0.0000e+00 - auc: 0.5000\n"
     ]
    }
   ],
   "source": [
    "# Fit the model using 50 epochs and the training data\n",
    "model_train = nm.fit(X_train, y_train, batch_size=1000, epochs=50, verbose=1)"
   ]
  },
  {
   "cell_type": "markdown",
   "metadata": {},
   "source": [
    "### Step 3: Evaluate the model using the test data to determine the model’s loss and accuracy.\n"
   ]
  },
  {
   "cell_type": "code",
   "execution_count": 105,
   "metadata": {},
   "outputs": [
    {
     "data": {
      "text/plain": [
       "dict_keys(['loss', 'accuracy', 'tp', 'tn', 'fp', 'fn', 'precision', 'recall', 'auc'])"
      ]
     },
     "execution_count": 105,
     "metadata": {},
     "output_type": "execute_result"
    }
   ],
   "source": [
    "model_train.history.keys()"
   ]
  },
  {
   "cell_type": "code",
   "execution_count": 107,
   "metadata": {},
   "outputs": [
    {
     "name": "stdout",
     "output_type": "stream",
     "text": [
      "Loss: [8.228751249288145, 8.228751381046756, 8.22875130638107, 8.228751162684848, 8.228751188339592, 8.228751329959708, 8.22875121503239, 8.2287514055893, 8.228751559962642, 8.228751361842772, 8.228751097139202, 8.228751677707535, 8.228751411669325, 8.228751479735958, 8.22875118107322, 8.228751134953997, 8.228751513620981, 8.228751338857307, 8.228751314685496, 8.228751244097879, 8.22875146727932, 8.22875157241928, 8.228751284285368, 8.228751288585874, 8.22875147306276, 8.228751425164017, 8.228751418861552, 8.228751387719955, 8.22875130044934, 8.228751361101304, 8.228751283247314, 8.22875137385453, 8.228751262041369, 8.228751325436763, 8.228751065256139, 8.228751517550753, 8.228751379934556, 8.228751299707872, 8.228751429464523, 8.228751466389559, 8.228751462237346, 8.22875149367553, 8.228751357987145, 8.228751276722408, 8.228751230751481, 8.228751327735308, 8.228751347161733, 8.228751257295984, 8.228751559072883, 8.228751387200928], Accuracy: [0.4665293, 0.4665293, 0.4665293, 0.4665293, 0.4665293, 0.4665293, 0.4665293, 0.4665293, 0.4665293, 0.4665293, 0.4665293, 0.4665293, 0.4665293, 0.4665293, 0.4665293, 0.4665293, 0.4665293, 0.4665293, 0.4665293, 0.4665293, 0.4665293, 0.4665293, 0.4665293, 0.4665293, 0.4665293, 0.4665293, 0.4665293, 0.4665293, 0.4665293, 0.4665293, 0.4665293, 0.4665293, 0.4665293, 0.4665293, 0.4665293, 0.4665293, 0.4665293, 0.4665293, 0.4665293, 0.4665293, 0.4665293, 0.4665293, 0.4665293, 0.4665293, 0.4665293, 0.4665293, 0.4665293, 0.4665293, 0.4665293, 0.4665293]\n"
     ]
    }
   ],
   "source": [
    "# Evaluate the model loss and accuracy metrics using the evaluate method and the test data\n",
    "model_loss, model_accuracy = model_train.history[\"loss\"], model_train.history[\"accuracy\"]\n",
    "\n",
    "# Display the model loss and accuracy results\n",
    "print(f\"Loss: {model_loss}, Accuracy: {model_accuracy}\")"
   ]
  },
  {
   "cell_type": "markdown",
   "metadata": {},
   "source": [
    "### Step 4: Save and export your model to an HDF5 file, and name the file `AlphabetSoup.h5`. \n"
   ]
  },
  {
   "cell_type": "code",
   "execution_count": 108,
   "metadata": {},
   "outputs": [
    {
     "name": "stdout",
     "output_type": "stream",
     "text": [
      "/Users/cynthiadavis/Desktop/boot camp/Week_13/Starter_Code\n"
     ]
    }
   ],
   "source": [
    "!pwd"
   ]
  },
  {
   "cell_type": "code",
   "execution_count": 110,
   "metadata": {},
   "outputs": [],
   "source": [
    "# Set the model's file path\n",
    "file_path = \"AlphabetSoup.h5\"\n",
    "\n",
    "# Export your model to a HDF5 file\n",
    "nm.save(file_path)"
   ]
  },
  {
   "cell_type": "markdown",
   "metadata": {},
   "source": [
    "---\n",
    "\n",
    "## Optimize the neural network model\n"
   ]
  },
  {
   "cell_type": "markdown",
   "metadata": {},
   "source": [
    "### Step 1: Define at least three new deep neural network models (resulting in the original plus 3 optimization attempts). With each, try to improve on your first model’s predictive accuracy.\n",
    "\n",
    "> **Rewind** Recall that perfect accuracy has a value of 1, so accuracy improves as its value moves closer to 1. To optimize your model for a predictive accuracy as close to 1 as possible, you can use any or all of the following techniques:\n",
    ">\n",
    "> * Adjust the input data by dropping different features columns to ensure that no variables or outliers confuse the model.\n",
    ">\n",
    "> * Add more neurons (nodes) to a hidden layer.\n",
    ">\n",
    "> * Add more hidden layers.\n",
    ">\n",
    "> * Use different activation functions for the hidden layers.\n",
    ">\n",
    "> * Add to or reduce the number of epochs in the training regimen.\n"
   ]
  },
  {
   "cell_type": "markdown",
   "metadata": {},
   "source": [
    "### Alternative Model 1"
   ]
  },
  {
   "cell_type": "code",
   "execution_count": 111,
   "metadata": {},
   "outputs": [
    {
     "data": {
      "text/plain": [
       "105"
      ]
     },
     "execution_count": 111,
     "metadata": {},
     "output_type": "execute_result"
    }
   ],
   "source": [
    "# Define the the number of inputs (features) to the model\n",
    "number_input_features = len(X_train.iloc[0])\n",
    "\n",
    "# Review the number of features\n",
    "number_input_features"
   ]
  },
  {
   "cell_type": "code",
   "execution_count": 112,
   "metadata": {},
   "outputs": [],
   "source": [
    "# Define the number of neurons in the output layer\n",
    "number_output_neurons_A1 = 16"
   ]
  },
  {
   "cell_type": "code",
   "execution_count": 113,
   "metadata": {},
   "outputs": [
    {
     "data": {
      "text/plain": [
       "2"
      ]
     },
     "execution_count": 113,
     "metadata": {},
     "output_type": "execute_result"
    }
   ],
   "source": [
    "# Define the number of hidden nodes for the first hidden layer\n",
    "hidden_nodes_layer1_A1 = 2\n",
    "\n",
    "# Review the number of hidden nodes in the first layer\n",
    "hidden_nodes_layer1_A1"
   ]
  },
  {
   "cell_type": "code",
   "execution_count": 134,
   "metadata": {},
   "outputs": [],
   "source": [
    "# Create the Sequential model instance\n",
    "nn_A1 = Sequential()"
   ]
  },
  {
   "cell_type": "code",
   "execution_count": 143,
   "metadata": {},
   "outputs": [
    {
     "name": "stdout",
     "output_type": "stream",
     "text": [
      "Model: \"sequential_13\"\n",
      "_________________________________________________________________\n",
      "Layer (type)                 Output Shape              Param #   \n",
      "=================================================================\n",
      "dense_22 (Dense)             (None, 1)                 106       \n",
      "_________________________________________________________________\n",
      "dense_23 (Dense)             (None, 2)                 4         \n",
      "_________________________________________________________________\n",
      "dense_24 (Dense)             (None, 3)                 9         \n",
      "_________________________________________________________________\n",
      "dense_25 (Dense)             (None, 4)                 16        \n",
      "_________________________________________________________________\n",
      "dense_26 (Dense)             (None, 2)                 10        \n",
      "_________________________________________________________________\n",
      "dense_27 (Dense)             (None, 1)                 3         \n",
      "_________________________________________________________________\n",
      "dense_28 (Dense)             (None, 2)                 4         \n",
      "_________________________________________________________________\n",
      "dense_29 (Dense)             (None, 3)                 9         \n",
      "_________________________________________________________________\n",
      "dense_30 (Dense)             (None, 4)                 16        \n",
      "_________________________________________________________________\n",
      "dense_31 (Dense)             (None, 1)                 5         \n",
      "=================================================================\n",
      "Total params: 145\n",
      "Trainable params: 145\n",
      "Non-trainable params: 0\n",
      "_________________________________________________________________\n"
     ]
    }
   ],
   "source": [
    "# First hidden layer\n",
    "nn_A1.add(Dense(units=1, input_dim = number_input_features, activation=\"relu\"))\n",
    "\n",
    "nn_A1.add(Dense(units=2, activation=\"relu\"))\n",
    "nn_A1.add(Dense(units=3, activation=\"relu\"))\n",
    "nn_A1.add(Dense(units=4, activation=\"relu\"))\n",
    "\n",
    "\n",
    "# Output layer\n",
    "nn_A1.add(Dense(units=1, activation=\"sigmoid\"))\n",
    "\n",
    "\n",
    "# Check the structure of the model\n",
    "nn_A1.summary()"
   ]
  },
  {
   "cell_type": "code",
   "execution_count": 144,
   "metadata": {},
   "outputs": [],
   "source": [
    "# Compile the Sequential model\n",
    "nn_A1.compile(loss = \"binary_crossentropy\",\n",
    "             optimizer = \"adam\",\n",
    "             metrics = [\"accuracy\",\n",
    "                        tf.keras.metrics.TruePositives(name = \"tp\"),\n",
    "                        tf.keras.metrics.TrueNegatives(name = \"tn\"),\n",
    "                        tf.keras.metrics.FalsePositives(name = \"fp\"),\n",
    "                        tf.keras.metrics.FalseNegatives(name = \"fn\"),\n",
    "                        tf.keras.metrics.Precision(name = \"precision\"),\n",
    "                        tf.keras.metrics.Recall(name = \"recall\"),\n",
    "                        tf.keras.metrics.AUC(name = \"auc\")\n",
    "                       ])"
   ]
  },
  {
   "cell_type": "code",
   "execution_count": 147,
   "metadata": {},
   "outputs": [
    {
     "name": "stdout",
     "output_type": "stream",
     "text": [
      "WARNING:tensorflow:Falling back from v2 loop because of error: Failed to find data adapter that can handle input: <class 'pandas.core.frame.DataFrame'>, <class 'NoneType'>\n",
      "Train on 25724 samples\n",
      "Epoch 1/50\n",
      "25724/25724 [==============================] - 1s 36us/sample - loss: 0.6909 - accuracy: 0.5335 - tp: 13723.0000 - tn: 0.0000e+00 - fp: 12001.0000 - fn: 0.0000e+00 - precision: 0.5335 - recall: 1.0000 - auc: 0.4995\n",
      "Epoch 2/50\n",
      "25724/25724 [==============================] - 0s 10us/sample - loss: 0.6909 - accuracy: 0.5335 - tp: 13723.0000 - tn: 0.0000e+00 - fp: 12001.0000 - fn: 0.0000e+00 - precision: 0.5335 - recall: 1.0000 - auc: 0.5000\n",
      "Epoch 3/50\n",
      "25724/25724 [==============================] - 0s 10us/sample - loss: 0.6909 - accuracy: 0.5335 - tp: 13723.0000 - tn: 0.0000e+00 - fp: 12001.0000 - fn: 0.0000e+00 - precision: 0.5335 - recall: 1.0000 - auc: 0.5000\n",
      "Epoch 4/50\n",
      "25724/25724 [==============================] - 0s 10us/sample - loss: 0.6909 - accuracy: 0.5335 - tp: 13723.0000 - tn: 0.0000e+00 - fp: 12001.0000 - fn: 0.0000e+00 - precision: 0.5335 - recall: 1.0000 - auc: 0.4974\n",
      "Epoch 5/50\n",
      "25724/25724 [==============================] - 0s 10us/sample - loss: 0.6909 - accuracy: 0.5335 - tp: 13723.0000 - tn: 0.0000e+00 - fp: 12001.0000 - fn: 0.0000e+00 - precision: 0.5335 - recall: 1.0000 - auc: 0.4948\n",
      "Epoch 6/50\n",
      "25724/25724 [==============================] - 0s 10us/sample - loss: 0.6909 - accuracy: 0.5335 - tp: 13723.0000 - tn: 0.0000e+00 - fp: 12001.0000 - fn: 0.0000e+00 - precision: 0.5335 - recall: 1.0000 - auc: 0.5000\n",
      "Epoch 7/50\n",
      "25724/25724 [==============================] - 0s 9us/sample - loss: 0.6909 - accuracy: 0.5335 - tp: 13723.0000 - tn: 0.0000e+00 - fp: 12001.0000 - fn: 0.0000e+00 - precision: 0.5335 - recall: 1.0000 - auc: 0.4938\n",
      "Epoch 8/50\n",
      "25724/25724 [==============================] - 0s 10us/sample - loss: 0.6910 - accuracy: 0.5335 - tp: 13723.0000 - tn: 0.0000e+00 - fp: 12001.0000 - fn: 0.0000e+00 - precision: 0.5335 - recall: 1.0000 - auc: 0.4943\n",
      "Epoch 9/50\n",
      "25724/25724 [==============================] - 0s 9us/sample - loss: 0.6910 - accuracy: 0.5335 - tp: 13723.0000 - tn: 0.0000e+00 - fp: 12001.0000 - fn: 0.0000e+00 - precision: 0.5335 - recall: 1.0000 - auc: 0.4967\n",
      "Epoch 10/50\n",
      "25724/25724 [==============================] - 0s 9us/sample - loss: 0.6909 - accuracy: 0.5335 - tp: 13723.0000 - tn: 0.0000e+00 - fp: 12001.0000 - fn: 0.0000e+00 - precision: 0.5335 - recall: 1.0000 - auc: 0.4982\n",
      "Epoch 11/50\n",
      "25724/25724 [==============================] - 0s 9us/sample - loss: 0.6909 - accuracy: 0.5335 - tp: 13723.0000 - tn: 0.0000e+00 - fp: 12001.0000 - fn: 0.0000e+00 - precision: 0.5335 - recall: 1.0000 - auc: 0.4970\n",
      "Epoch 12/50\n",
      "25724/25724 [==============================] - 0s 11us/sample - loss: 0.6909 - accuracy: 0.5335 - tp: 13723.0000 - tn: 0.0000e+00 - fp: 12001.0000 - fn: 0.0000e+00 - precision: 0.5335 - recall: 1.0000 - auc: 0.5000\n",
      "Epoch 13/50\n",
      "25724/25724 [==============================] - 0s 11us/sample - loss: 0.6909 - accuracy: 0.5335 - tp: 13723.0000 - tn: 0.0000e+00 - fp: 12001.0000 - fn: 0.0000e+00 - precision: 0.5335 - recall: 1.0000 - auc: 0.4995\n",
      "Epoch 14/50\n",
      "25724/25724 [==============================] - 0s 11us/sample - loss: 0.6909 - accuracy: 0.5335 - tp: 13723.0000 - tn: 0.0000e+00 - fp: 12001.0000 - fn: 0.0000e+00 - precision: 0.5335 - recall: 1.0000 - auc: 0.5000\n",
      "Epoch 15/50\n",
      "25724/25724 [==============================] - 0s 11us/sample - loss: 0.6909 - accuracy: 0.5335 - tp: 13723.0000 - tn: 0.0000e+00 - fp: 12001.0000 - fn: 0.0000e+00 - precision: 0.5335 - recall: 1.0000 - auc: 0.4993\n",
      "Epoch 16/50\n",
      "25724/25724 [==============================] - 0s 9us/sample - loss: 0.6909 - accuracy: 0.5335 - tp: 13723.0000 - tn: 0.0000e+00 - fp: 12001.0000 - fn: 0.0000e+00 - precision: 0.5335 - recall: 1.0000 - auc: 0.5000\n",
      "Epoch 17/50\n",
      "25724/25724 [==============================] - 0s 9us/sample - loss: 0.6909 - accuracy: 0.5335 - tp: 13723.0000 - tn: 0.0000e+00 - fp: 12001.0000 - fn: 0.0000e+00 - precision: 0.5335 - recall: 1.0000 - auc: 0.4982\n",
      "Epoch 18/50\n",
      "25724/25724 [==============================] - 0s 10us/sample - loss: 0.6910 - accuracy: 0.5335 - tp: 13723.0000 - tn: 0.0000e+00 - fp: 12001.0000 - fn: 0.0000e+00 - precision: 0.5335 - recall: 1.0000 - auc: 0.4994\n",
      "Epoch 19/50\n",
      "25724/25724 [==============================] - 0s 10us/sample - loss: 0.6909 - accuracy: 0.5335 - tp: 13723.0000 - tn: 0.0000e+00 - fp: 12001.0000 - fn: 0.0000e+00 - precision: 0.5335 - recall: 1.0000 - auc: 0.4973\n",
      "Epoch 20/50\n",
      "25724/25724 [==============================] - 0s 10us/sample - loss: 0.6909 - accuracy: 0.5335 - tp: 13723.0000 - tn: 0.0000e+00 - fp: 12001.0000 - fn: 0.0000e+00 - precision: 0.5335 - recall: 1.0000 - auc: 0.5000\n",
      "Epoch 21/50\n",
      "25724/25724 [==============================] - 0s 9us/sample - loss: 0.6909 - accuracy: 0.5335 - tp: 13723.0000 - tn: 0.0000e+00 - fp: 12001.0000 - fn: 0.0000e+00 - precision: 0.5335 - recall: 1.0000 - auc: 0.5000\n",
      "Epoch 22/50\n",
      "25724/25724 [==============================] - 0s 9us/sample - loss: 0.6909 - accuracy: 0.5335 - tp: 13723.0000 - tn: 0.0000e+00 - fp: 12001.0000 - fn: 0.0000e+00 - precision: 0.5335 - recall: 1.0000 - auc: 0.4939\n",
      "Epoch 23/50\n",
      "25724/25724 [==============================] - 0s 9us/sample - loss: 0.6909 - accuracy: 0.5335 - tp: 13723.0000 - tn: 0.0000e+00 - fp: 12001.0000 - fn: 0.0000e+00 - precision: 0.5335 - recall: 1.0000 - auc: 0.4999\n",
      "Epoch 24/50\n",
      "25724/25724 [==============================] - 0s 9us/sample - loss: 0.6909 - accuracy: 0.5335 - tp: 13723.0000 - tn: 0.0000e+00 - fp: 12001.0000 - fn: 0.0000e+00 - precision: 0.5335 - recall: 1.0000 - auc: 0.4951\n",
      "Epoch 25/50\n",
      "25724/25724 [==============================] - 0s 10us/sample - loss: 0.6909 - accuracy: 0.5335 - tp: 13723.0000 - tn: 0.0000e+00 - fp: 12001.0000 - fn: 0.0000e+00 - precision: 0.5335 - recall: 1.0000 - auc: 0.5000\n",
      "Epoch 26/50\n",
      "25724/25724 [==============================] - 0s 9us/sample - loss: 0.6909 - accuracy: 0.5335 - tp: 13723.0000 - tn: 0.0000e+00 - fp: 12001.0000 - fn: 0.0000e+00 - precision: 0.5335 - recall: 1.0000 - auc: 0.4995\n",
      "Epoch 27/50\n",
      "25724/25724 [==============================] - 0s 10us/sample - loss: 0.6909 - accuracy: 0.5335 - tp: 13723.0000 - tn: 0.0000e+00 - fp: 12001.0000 - fn: 0.0000e+00 - precision: 0.5335 - recall: 1.0000 - auc: 0.4957\n",
      "Epoch 28/50\n",
      "25724/25724 [==============================] - 0s 10us/sample - loss: 0.6909 - accuracy: 0.5335 - tp: 13723.0000 - tn: 0.0000e+00 - fp: 12001.0000 - fn: 0.0000e+00 - precision: 0.5335 - recall: 1.0000 - auc: 0.4983\n",
      "Epoch 29/50\n",
      "25724/25724 [==============================] - 0s 10us/sample - loss: 0.6909 - accuracy: 0.5335 - tp: 13723.0000 - tn: 0.0000e+00 - fp: 12001.0000 - fn: 0.0000e+00 - precision: 0.5335 - recall: 1.0000 - auc: 0.4976\n",
      "Epoch 30/50\n",
      "25724/25724 [==============================] - 0s 9us/sample - loss: 0.6909 - accuracy: 0.5335 - tp: 13723.0000 - tn: 0.0000e+00 - fp: 12001.0000 - fn: 0.0000e+00 - precision: 0.5335 - recall: 1.0000 - auc: 0.5000\n",
      "Epoch 31/50\n",
      "25724/25724 [==============================] - 0s 9us/sample - loss: 0.6909 - accuracy: 0.5335 - tp: 13723.0000 - tn: 0.0000e+00 - fp: 12001.0000 - fn: 0.0000e+00 - precision: 0.5335 - recall: 1.0000 - auc: 0.4965\n",
      "Epoch 32/50\n",
      "25724/25724 [==============================] - 0s 9us/sample - loss: 0.6909 - accuracy: 0.5335 - tp: 13723.0000 - tn: 0.0000e+00 - fp: 12001.0000 - fn: 0.0000e+00 - precision: 0.5335 - recall: 1.0000 - auc: 0.4989\n",
      "Epoch 33/50\n",
      "25724/25724 [==============================] - 0s 9us/sample - loss: 0.6909 - accuracy: 0.5335 - tp: 13723.0000 - tn: 0.0000e+00 - fp: 12001.0000 - fn: 0.0000e+00 - precision: 0.5335 - recall: 1.0000 - auc: 0.4959\n",
      "Epoch 34/50\n",
      "25724/25724 [==============================] - 0s 9us/sample - loss: 0.6909 - accuracy: 0.5335 - tp: 13723.0000 - tn: 0.0000e+00 - fp: 12001.0000 - fn: 0.0000e+00 - precision: 0.5335 - recall: 1.0000 - auc: 0.5000\n",
      "Epoch 35/50\n",
      "25724/25724 [==============================] - 0s 10us/sample - loss: 0.6909 - accuracy: 0.5335 - tp: 13723.0000 - tn: 0.0000e+00 - fp: 12001.0000 - fn: 0.0000e+00 - precision: 0.5335 - recall: 1.0000 - auc: 0.4920\n",
      "Epoch 36/50\n",
      "25724/25724 [==============================] - 0s 10us/sample - loss: 0.6909 - accuracy: 0.5335 - tp: 13723.0000 - tn: 0.0000e+00 - fp: 12001.0000 - fn: 0.0000e+00 - precision: 0.5335 - recall: 1.0000 - auc: 0.4970\n",
      "Epoch 37/50\n",
      "25724/25724 [==============================] - 0s 11us/sample - loss: 0.6909 - accuracy: 0.5335 - tp: 13723.0000 - tn: 0.0000e+00 - fp: 12001.0000 - fn: 0.0000e+00 - precision: 0.5335 - recall: 1.0000 - auc: 0.4989\n",
      "Epoch 38/50\n",
      "25724/25724 [==============================] - 0s 11us/sample - loss: 0.6909 - accuracy: 0.5335 - tp: 13723.0000 - tn: 0.0000e+00 - fp: 12001.0000 - fn: 0.0000e+00 - precision: 0.5335 - recall: 1.0000 - auc: 0.4969\n",
      "Epoch 39/50\n",
      "25724/25724 [==============================] - 0s 10us/sample - loss: 0.6909 - accuracy: 0.5335 - tp: 13723.0000 - tn: 0.0000e+00 - fp: 12001.0000 - fn: 0.0000e+00 - precision: 0.5335 - recall: 1.0000 - auc: 0.4996\n",
      "Epoch 40/50\n",
      "25724/25724 [==============================] - 0s 10us/sample - loss: 0.6909 - accuracy: 0.5335 - tp: 13723.0000 - tn: 0.0000e+00 - fp: 12001.0000 - fn: 0.0000e+00 - precision: 0.5335 - recall: 1.0000 - auc: 0.5001\n",
      "Epoch 41/50\n",
      "25724/25724 [==============================] - 0s 10us/sample - loss: 0.6910 - accuracy: 0.5335 - tp: 13723.0000 - tn: 0.0000e+00 - fp: 12001.0000 - fn: 0.0000e+00 - precision: 0.5335 - recall: 1.0000 - auc: 0.4980\n",
      "Epoch 42/50\n",
      "25724/25724 [==============================] - 0s 10us/sample - loss: 0.6909 - accuracy: 0.5335 - tp: 13723.0000 - tn: 0.0000e+00 - fp: 12001.0000 - fn: 0.0000e+00 - precision: 0.5335 - recall: 1.0000 - auc: 0.5000\n",
      "Epoch 43/50\n",
      "25724/25724 [==============================] - 0s 10us/sample - loss: 0.6909 - accuracy: 0.5335 - tp: 13723.0000 - tn: 0.0000e+00 - fp: 12001.0000 - fn: 0.0000e+00 - precision: 0.5335 - recall: 1.0000 - auc: 0.5000\n",
      "Epoch 44/50\n",
      "25724/25724 [==============================] - 0s 9us/sample - loss: 0.6909 - accuracy: 0.5335 - tp: 13723.0000 - tn: 0.0000e+00 - fp: 12001.0000 - fn: 0.0000e+00 - precision: 0.5335 - recall: 1.0000 - auc: 0.4957\n",
      "Epoch 45/50\n",
      "25724/25724 [==============================] - 0s 10us/sample - loss: 0.6909 - accuracy: 0.5335 - tp: 13723.0000 - tn: 0.0000e+00 - fp: 12001.0000 - fn: 0.0000e+00 - precision: 0.5335 - recall: 1.0000 - auc: 0.4966\n",
      "Epoch 46/50\n",
      "25724/25724 [==============================] - 0s 10us/sample - loss: 0.6910 - accuracy: 0.5335 - tp: 13723.0000 - tn: 0.0000e+00 - fp: 12001.0000 - fn: 0.0000e+00 - precision: 0.5335 - recall: 1.0000 - auc: 0.4961\n",
      "Epoch 47/50\n",
      "25724/25724 [==============================] - 0s 11us/sample - loss: 0.6909 - accuracy: 0.5335 - tp: 13723.0000 - tn: 0.0000e+00 - fp: 12001.0000 - fn: 0.0000e+00 - precision: 0.5335 - recall: 1.0000 - auc: 0.5002\n",
      "Epoch 48/50\n",
      "25724/25724 [==============================] - 0s 11us/sample - loss: 0.6909 - accuracy: 0.5335 - tp: 13723.0000 - tn: 0.0000e+00 - fp: 12001.0000 - fn: 0.0000e+00 - precision: 0.5335 - recall: 1.0000 - auc: 0.5021\n",
      "Epoch 49/50\n",
      "25724/25724 [==============================] - 0s 12us/sample - loss: 0.6909 - accuracy: 0.5335 - tp: 13723.0000 - tn: 0.0000e+00 - fp: 12001.0000 - fn: 0.0000e+00 - precision: 0.5335 - recall: 1.0000 - auc: 0.5000\n",
      "Epoch 50/50\n",
      "25724/25724 [==============================] - 0s 10us/sample - loss: 0.6909 - accuracy: 0.5335 - tp: 13723.0000 - tn: 0.0000e+00 - fp: 12001.0000 - fn: 0.0000e+00 - precision: 0.5335 - recall: 1.0000 - auc: 0.5000\n"
     ]
    }
   ],
   "source": [
    "# Fit the model using 50 epochs and the training data\n",
    "fit_model_A1 = nn_A1.fit(X_train, y_train, batch_size=1000, epochs=50, verbose=1)\n"
   ]
  },
  {
   "cell_type": "markdown",
   "metadata": {},
   "source": [
    "#### Alternative Model 2"
   ]
  },
  {
   "cell_type": "code",
   "execution_count": 148,
   "metadata": {},
   "outputs": [
    {
     "data": {
      "text/plain": [
       "105"
      ]
     },
     "execution_count": 148,
     "metadata": {},
     "output_type": "execute_result"
    }
   ],
   "source": [
    "# Define the the number of inputs (features) to the model\n",
    "number_input_features = len(X_train.iloc[0])\n",
    "\n",
    "# Review the number of features\n",
    "number_input_features"
   ]
  },
  {
   "cell_type": "code",
   "execution_count": 150,
   "metadata": {},
   "outputs": [],
   "source": [
    "# Define the number of neurons in the output layer\n",
    "number_output_neurons_A2 = 1"
   ]
  },
  {
   "cell_type": "code",
   "execution_count": 151,
   "metadata": {},
   "outputs": [
    {
     "data": {
      "text/plain": [
       "4"
      ]
     },
     "execution_count": 151,
     "metadata": {},
     "output_type": "execute_result"
    }
   ],
   "source": [
    "# Define the number of hidden nodes for the first hidden layer\n",
    "hidden_nodes_layer1_A2 = 4\n",
    "\n",
    "# Review the number of hidden nodes in the first layer\n",
    "hidden_nodes_layer1_A2"
   ]
  },
  {
   "cell_type": "code",
   "execution_count": 152,
   "metadata": {},
   "outputs": [],
   "source": [
    "# Create the Sequential model instance\n",
    "nn_A2 = Sequential()"
   ]
  },
  {
   "cell_type": "code",
   "execution_count": 153,
   "metadata": {},
   "outputs": [
    {
     "name": "stdout",
     "output_type": "stream",
     "text": [
      "Model: \"sequential_14\"\n",
      "_________________________________________________________________\n",
      "Layer (type)                 Output Shape              Param #   \n",
      "=================================================================\n",
      "dense_32 (Dense)             (None, 1)                 106       \n",
      "_________________________________________________________________\n",
      "dense_33 (Dense)             (None, 4)                 8         \n",
      "_________________________________________________________________\n",
      "dense_34 (Dense)             (None, 6)                 30        \n",
      "_________________________________________________________________\n",
      "dense_35 (Dense)             (None, 8)                 56        \n",
      "_________________________________________________________________\n",
      "dense_36 (Dense)             (None, 6)                 54        \n",
      "_________________________________________________________________\n",
      "dense_37 (Dense)             (None, 4)                 28        \n",
      "_________________________________________________________________\n",
      "dense_38 (Dense)             (None, 1)                 5         \n",
      "=================================================================\n",
      "Total params: 287\n",
      "Trainable params: 287\n",
      "Non-trainable params: 0\n",
      "_________________________________________________________________\n"
     ]
    }
   ],
   "source": [
    "# First hidden layer\n",
    "nn_A2.add(Dense(units=1, input_dim=number_input_features, activation=\"relu\"))\n",
    "nn_A2.add(Dense(units=4, activation=\"relu\"))\n",
    "nn_A2.add(Dense(units=6, activation=\"relu\"))\n",
    "nn_A2.add(Dense(units=8, activation=\"relu\"))\n",
    "nn_A2.add(Dense(units=6, activation=\"relu\"))\n",
    "nn_A2.add(Dense(units=4, activation=\"relu\"))\n",
    "\n",
    "# Output layer\n",
    "nn_A2.add(Dense(units=1, activation=\"sigmoid\"))\n",
    "\n",
    "\n",
    "# Check the structure of the model\n",
    "nn_A2.summary()\n"
   ]
  },
  {
   "cell_type": "code",
   "execution_count": 154,
   "metadata": {},
   "outputs": [],
   "source": [
    "# Compile the model\n",
    "nn_A2.compile(loss = \"binary_crossentropy\",\n",
    "             optimizer = \"adam\",\n",
    "             metrics = [\"accuracy\",\n",
    "                        tf.keras.metrics.TruePositives(name = \"tp\"),\n",
    "                        tf.keras.metrics.TrueNegatives(name = \"tn\"),\n",
    "                        tf.keras.metrics.FalsePositives(name = \"fp\"),\n",
    "                        tf.keras.metrics.FalseNegatives(name = \"fn\"),\n",
    "                        tf.keras.metrics.Precision(name = \"precision\"),\n",
    "                        tf.keras.metrics.Recall(name = \"recall\"),\n",
    "                        tf.keras.metrics.AUC(name = \"auc\")\n",
    "                       ])"
   ]
  },
  {
   "cell_type": "code",
   "execution_count": 156,
   "metadata": {},
   "outputs": [
    {
     "name": "stdout",
     "output_type": "stream",
     "text": [
      "WARNING:tensorflow:Falling back from v2 loop because of error: Failed to find data adapter that can handle input: <class 'pandas.core.frame.DataFrame'>, <class 'NoneType'>\n",
      "Train on 25724 samples\n",
      "Epoch 1/50\n",
      "25724/25724 [==============================] - 0s 10us/sample - loss: 0.6909 - accuracy: 0.5335 - tp: 13723.0000 - tn: 0.0000e+00 - fp: 12001.0000 - fn: 0.0000e+00 - precision: 0.5335 - recall: 1.0000 - auc: 0.5000\n",
      "Epoch 2/50\n",
      "25724/25724 [==============================] - 0s 9us/sample - loss: 0.6909 - accuracy: 0.5335 - tp: 13723.0000 - tn: 0.0000e+00 - fp: 12001.0000 - fn: 0.0000e+00 - precision: 0.5335 - recall: 1.0000 - auc: 0.5000\n",
      "Epoch 3/50\n",
      "25724/25724 [==============================] - 0s 9us/sample - loss: 0.6909 - accuracy: 0.5335 - tp: 13723.0000 - tn: 0.0000e+00 - fp: 12001.0000 - fn: 0.0000e+00 - precision: 0.5335 - recall: 1.0000 - auc: 0.5000\n",
      "Epoch 4/50\n",
      "25724/25724 [==============================] - 0s 9us/sample - loss: 0.6909 - accuracy: 0.5335 - tp: 13723.0000 - tn: 0.0000e+00 - fp: 12001.0000 - fn: 0.0000e+00 - precision: 0.5335 - recall: 1.0000 - auc: 0.5000\n",
      "Epoch 5/50\n",
      "25724/25724 [==============================] - 0s 9us/sample - loss: 0.6909 - accuracy: 0.5335 - tp: 13723.0000 - tn: 0.0000e+00 - fp: 12001.0000 - fn: 0.0000e+00 - precision: 0.5335 - recall: 1.0000 - auc: 0.5000\n",
      "Epoch 6/50\n",
      "25724/25724 [==============================] - 0s 9us/sample - loss: 0.6909 - accuracy: 0.5335 - tp: 13723.0000 - tn: 0.0000e+00 - fp: 12001.0000 - fn: 0.0000e+00 - precision: 0.5335 - recall: 1.0000 - auc: 0.5000\n",
      "Epoch 7/50\n",
      "25724/25724 [==============================] - 0s 9us/sample - loss: 0.6909 - accuracy: 0.5335 - tp: 13723.0000 - tn: 0.0000e+00 - fp: 12001.0000 - fn: 0.0000e+00 - precision: 0.5335 - recall: 1.0000 - auc: 0.5000\n",
      "Epoch 8/50\n",
      "25724/25724 [==============================] - 0s 9us/sample - loss: 0.6909 - accuracy: 0.5335 - tp: 13723.0000 - tn: 0.0000e+00 - fp: 12001.0000 - fn: 0.0000e+00 - precision: 0.5335 - recall: 1.0000 - auc: 0.5000\n",
      "Epoch 9/50\n",
      "25724/25724 [==============================] - 0s 9us/sample - loss: 0.6909 - accuracy: 0.5335 - tp: 13723.0000 - tn: 0.0000e+00 - fp: 12001.0000 - fn: 0.0000e+00 - precision: 0.5335 - recall: 1.0000 - auc: 0.5000\n",
      "Epoch 10/50\n",
      "25724/25724 [==============================] - 0s 9us/sample - loss: 0.6909 - accuracy: 0.5335 - tp: 13723.0000 - tn: 0.0000e+00 - fp: 12001.0000 - fn: 0.0000e+00 - precision: 0.5335 - recall: 1.0000 - auc: 0.5000\n",
      "Epoch 11/50\n",
      "25724/25724 [==============================] - 0s 9us/sample - loss: 0.6909 - accuracy: 0.5335 - tp: 13723.0000 - tn: 0.0000e+00 - fp: 12001.0000 - fn: 0.0000e+00 - precision: 0.5335 - recall: 1.0000 - auc: 0.5000\n",
      "Epoch 12/50\n",
      "25724/25724 [==============================] - 0s 9us/sample - loss: 0.6909 - accuracy: 0.5335 - tp: 13723.0000 - tn: 0.0000e+00 - fp: 12001.0000 - fn: 0.0000e+00 - precision: 0.5335 - recall: 1.0000 - auc: 0.5000\n",
      "Epoch 13/50\n",
      "25724/25724 [==============================] - 0s 9us/sample - loss: 0.6909 - accuracy: 0.5335 - tp: 13723.0000 - tn: 0.0000e+00 - fp: 12001.0000 - fn: 0.0000e+00 - precision: 0.5335 - recall: 1.0000 - auc: 0.4939\n",
      "Epoch 14/50\n",
      "25724/25724 [==============================] - 0s 9us/sample - loss: 0.6909 - accuracy: 0.5335 - tp: 13723.0000 - tn: 0.0000e+00 - fp: 12001.0000 - fn: 0.0000e+00 - precision: 0.5335 - recall: 1.0000 - auc: 0.5000\n",
      "Epoch 15/50\n",
      "25724/25724 [==============================] - 0s 9us/sample - loss: 0.6909 - accuracy: 0.5335 - tp: 13723.0000 - tn: 0.0000e+00 - fp: 12001.0000 - fn: 0.0000e+00 - precision: 0.5335 - recall: 1.0000 - auc: 0.5000\n",
      "Epoch 16/50\n",
      "25724/25724 [==============================] - 0s 9us/sample - loss: 0.6909 - accuracy: 0.5335 - tp: 13723.0000 - tn: 0.0000e+00 - fp: 12001.0000 - fn: 0.0000e+00 - precision: 0.5335 - recall: 1.0000 - auc: 0.4918\n",
      "Epoch 17/50\n",
      "25724/25724 [==============================] - 0s 9us/sample - loss: 0.6909 - accuracy: 0.5335 - tp: 13723.0000 - tn: 0.0000e+00 - fp: 12001.0000 - fn: 0.0000e+00 - precision: 0.5335 - recall: 1.0000 - auc: 0.5000\n",
      "Epoch 18/50\n",
      "25724/25724 [==============================] - 0s 9us/sample - loss: 0.6909 - accuracy: 0.5335 - tp: 13723.0000 - tn: 0.0000e+00 - fp: 12001.0000 - fn: 0.0000e+00 - precision: 0.5335 - recall: 1.0000 - auc: 0.5000\n",
      "Epoch 19/50\n",
      "25724/25724 [==============================] - 0s 12us/sample - loss: 0.6909 - accuracy: 0.5335 - tp: 13723.0000 - tn: 0.0000e+00 - fp: 12001.0000 - fn: 0.0000e+00 - precision: 0.5335 - recall: 1.0000 - auc: 0.5000\n",
      "Epoch 20/50\n",
      "25724/25724 [==============================] - 0s 9us/sample - loss: 0.6909 - accuracy: 0.5335 - tp: 13723.0000 - tn: 0.0000e+00 - fp: 12001.0000 - fn: 0.0000e+00 - precision: 0.5335 - recall: 1.0000 - auc: 0.5000\n",
      "Epoch 21/50\n",
      "25724/25724 [==============================] - 0s 9us/sample - loss: 0.6909 - accuracy: 0.5335 - tp: 13723.0000 - tn: 0.0000e+00 - fp: 12001.0000 - fn: 0.0000e+00 - precision: 0.5335 - recall: 1.0000 - auc: 0.5000\n",
      "Epoch 22/50\n",
      "25724/25724 [==============================] - 0s 9us/sample - loss: 0.6909 - accuracy: 0.5335 - tp: 13723.0000 - tn: 0.0000e+00 - fp: 12001.0000 - fn: 0.0000e+00 - precision: 0.5335 - recall: 1.0000 - auc: 0.5000\n",
      "Epoch 23/50\n",
      "25724/25724 [==============================] - 0s 9us/sample - loss: 0.6909 - accuracy: 0.5335 - tp: 13723.0000 - tn: 0.0000e+00 - fp: 12001.0000 - fn: 0.0000e+00 - precision: 0.5335 - recall: 1.0000 - auc: 0.5000\n",
      "Epoch 24/50\n",
      "25724/25724 [==============================] - 0s 9us/sample - loss: 0.6909 - accuracy: 0.5335 - tp: 13723.0000 - tn: 0.0000e+00 - fp: 12001.0000 - fn: 0.0000e+00 - precision: 0.5335 - recall: 1.0000 - auc: 0.5000\n",
      "Epoch 25/50\n",
      "25724/25724 [==============================] - 0s 9us/sample - loss: 0.6909 - accuracy: 0.5335 - tp: 13723.0000 - tn: 0.0000e+00 - fp: 12001.0000 - fn: 0.0000e+00 - precision: 0.5335 - recall: 1.0000 - auc: 0.5000\n",
      "Epoch 26/50\n",
      "25724/25724 [==============================] - 0s 9us/sample - loss: 0.6909 - accuracy: 0.5335 - tp: 13723.0000 - tn: 0.0000e+00 - fp: 12001.0000 - fn: 0.0000e+00 - precision: 0.5335 - recall: 1.0000 - auc: 0.5000\n",
      "Epoch 27/50\n",
      "25724/25724 [==============================] - 0s 9us/sample - loss: 0.6909 - accuracy: 0.5335 - tp: 13723.0000 - tn: 0.0000e+00 - fp: 12001.0000 - fn: 0.0000e+00 - precision: 0.5335 - recall: 1.0000 - auc: 0.5000\n",
      "Epoch 28/50\n",
      "25724/25724 [==============================] - 0s 9us/sample - loss: 0.6909 - accuracy: 0.5335 - tp: 13723.0000 - tn: 0.0000e+00 - fp: 12001.0000 - fn: 0.0000e+00 - precision: 0.5335 - recall: 1.0000 - auc: 0.5000\n",
      "Epoch 29/50\n",
      "25724/25724 [==============================] - 0s 9us/sample - loss: 0.6909 - accuracy: 0.5335 - tp: 13723.0000 - tn: 0.0000e+00 - fp: 12001.0000 - fn: 0.0000e+00 - precision: 0.5335 - recall: 1.0000 - auc: 0.5000\n",
      "Epoch 30/50\n",
      "25724/25724 [==============================] - 0s 9us/sample - loss: 0.6909 - accuracy: 0.5335 - tp: 13723.0000 - tn: 0.0000e+00 - fp: 12001.0000 - fn: 0.0000e+00 - precision: 0.5335 - recall: 1.0000 - auc: 0.5000\n",
      "Epoch 31/50\n",
      "25724/25724 [==============================] - 0s 9us/sample - loss: 0.6909 - accuracy: 0.5335 - tp: 13723.0000 - tn: 0.0000e+00 - fp: 12001.0000 - fn: 0.0000e+00 - precision: 0.5335 - recall: 1.0000 - auc: 0.5000\n",
      "Epoch 32/50\n",
      "25724/25724 [==============================] - 0s 9us/sample - loss: 0.6909 - accuracy: 0.5335 - tp: 13723.0000 - tn: 0.0000e+00 - fp: 12001.0000 - fn: 0.0000e+00 - precision: 0.5335 - recall: 1.0000 - auc: 0.5000\n",
      "Epoch 33/50\n",
      "25724/25724 [==============================] - 0s 9us/sample - loss: 0.6909 - accuracy: 0.5335 - tp: 13723.0000 - tn: 0.0000e+00 - fp: 12001.0000 - fn: 0.0000e+00 - precision: 0.5335 - recall: 1.0000 - auc: 0.5000\n",
      "Epoch 34/50\n",
      "25724/25724 [==============================] - 0s 9us/sample - loss: 0.6909 - accuracy: 0.5335 - tp: 13723.0000 - tn: 0.0000e+00 - fp: 12001.0000 - fn: 0.0000e+00 - precision: 0.5335 - recall: 1.0000 - auc: 0.5000\n",
      "Epoch 35/50\n",
      "25724/25724 [==============================] - 0s 9us/sample - loss: 0.6909 - accuracy: 0.5335 - tp: 13723.0000 - tn: 0.0000e+00 - fp: 12001.0000 - fn: 0.0000e+00 - precision: 0.5335 - recall: 1.0000 - auc: 0.5000\n",
      "Epoch 36/50\n",
      "25724/25724 [==============================] - 0s 9us/sample - loss: 0.6909 - accuracy: 0.5335 - tp: 13723.0000 - tn: 0.0000e+00 - fp: 12001.0000 - fn: 0.0000e+00 - precision: 0.5335 - recall: 1.0000 - auc: 0.5000\n",
      "Epoch 37/50\n",
      "25724/25724 [==============================] - 0s 9us/sample - loss: 0.6909 - accuracy: 0.5335 - tp: 13723.0000 - tn: 0.0000e+00 - fp: 12001.0000 - fn: 0.0000e+00 - precision: 0.5335 - recall: 1.0000 - auc: 0.5000\n",
      "Epoch 38/50\n",
      "25724/25724 [==============================] - 0s 9us/sample - loss: 0.6909 - accuracy: 0.5335 - tp: 13723.0000 - tn: 0.0000e+00 - fp: 12001.0000 - fn: 0.0000e+00 - precision: 0.5335 - recall: 1.0000 - auc: 0.5000\n",
      "Epoch 39/50\n",
      "25724/25724 [==============================] - 0s 9us/sample - loss: 0.6909 - accuracy: 0.5335 - tp: 13723.0000 - tn: 0.0000e+00 - fp: 12001.0000 - fn: 0.0000e+00 - precision: 0.5335 - recall: 1.0000 - auc: 0.5000\n",
      "Epoch 40/50\n",
      "25724/25724 [==============================] - 0s 9us/sample - loss: 0.6909 - accuracy: 0.5335 - tp: 13723.0000 - tn: 0.0000e+00 - fp: 12001.0000 - fn: 0.0000e+00 - precision: 0.5335 - recall: 1.0000 - auc: 0.5000\n",
      "Epoch 41/50\n",
      "25724/25724 [==============================] - 0s 9us/sample - loss: 0.6909 - accuracy: 0.5335 - tp: 13723.0000 - tn: 0.0000e+00 - fp: 12001.0000 - fn: 0.0000e+00 - precision: 0.5335 - recall: 1.0000 - auc: 0.5000\n",
      "Epoch 42/50\n",
      "25724/25724 [==============================] - 0s 9us/sample - loss: 0.6909 - accuracy: 0.5335 - tp: 13723.0000 - tn: 0.0000e+00 - fp: 12001.0000 - fn: 0.0000e+00 - precision: 0.5335 - recall: 1.0000 - auc: 0.5000\n",
      "Epoch 43/50\n",
      "25724/25724 [==============================] - 0s 9us/sample - loss: 0.6909 - accuracy: 0.5335 - tp: 13723.0000 - tn: 0.0000e+00 - fp: 12001.0000 - fn: 0.0000e+00 - precision: 0.5335 - recall: 1.0000 - auc: 0.5000\n",
      "Epoch 44/50\n",
      "25724/25724 [==============================] - 0s 9us/sample - loss: 0.6909 - accuracy: 0.5335 - tp: 13723.0000 - tn: 0.0000e+00 - fp: 12001.0000 - fn: 0.0000e+00 - precision: 0.5335 - recall: 1.0000 - auc: 0.5000\n",
      "Epoch 45/50\n",
      "25724/25724 [==============================] - 0s 9us/sample - loss: 0.6909 - accuracy: 0.5335 - tp: 13723.0000 - tn: 0.0000e+00 - fp: 12001.0000 - fn: 0.0000e+00 - precision: 0.5335 - recall: 1.0000 - auc: 0.5000\n",
      "Epoch 46/50\n",
      "25724/25724 [==============================] - 0s 9us/sample - loss: 0.6909 - accuracy: 0.5335 - tp: 13723.0000 - tn: 0.0000e+00 - fp: 12001.0000 - fn: 0.0000e+00 - precision: 0.5335 - recall: 1.0000 - auc: 0.5000\n",
      "Epoch 47/50\n",
      "25724/25724 [==============================] - 0s 9us/sample - loss: 0.6909 - accuracy: 0.5335 - tp: 13723.0000 - tn: 0.0000e+00 - fp: 12001.0000 - fn: 0.0000e+00 - precision: 0.5335 - recall: 1.0000 - auc: 0.5000\n",
      "Epoch 48/50\n",
      "25724/25724 [==============================] - 0s 9us/sample - loss: 0.6909 - accuracy: 0.5335 - tp: 13723.0000 - tn: 0.0000e+00 - fp: 12001.0000 - fn: 0.0000e+00 - precision: 0.5335 - recall: 1.0000 - auc: 0.5000\n",
      "Epoch 49/50\n",
      "25724/25724 [==============================] - 0s 9us/sample - loss: 0.6909 - accuracy: 0.5335 - tp: 13723.0000 - tn: 0.0000e+00 - fp: 12001.0000 - fn: 0.0000e+00 - precision: 0.5335 - recall: 1.0000 - auc: 0.5000\n",
      "Epoch 50/50\n",
      "25724/25724 [==============================] - 0s 9us/sample - loss: 0.6909 - accuracy: 0.5335 - tp: 13723.0000 - tn: 0.0000e+00 - fp: 12001.0000 - fn: 0.0000e+00 - precision: 0.5335 - recall: 1.0000 - auc: 0.5000\n"
     ]
    }
   ],
   "source": [
    "# Fit the model\n",
    "fit_model_A2 = nn_A2.fit(X_train, y_train, 1000, 50, verbose=1)"
   ]
  },
  {
   "cell_type": "markdown",
   "metadata": {},
   "source": [
    "### Step 2: After finishing your models, display the accuracy scores achieved by each model, and compare the results."
   ]
  },
  {
   "cell_type": "code",
   "execution_count": 157,
   "metadata": {},
   "outputs": [
    {
     "name": "stdout",
     "output_type": "stream",
     "text": [
      "Original Model Results\n",
      "Loss: [8.228751249288145, 8.228751381046756, 8.22875130638107, 8.228751162684848, 8.228751188339592, 8.228751329959708, 8.22875121503239, 8.2287514055893, 8.228751559962642, 8.228751361842772, 8.228751097139202, 8.228751677707535, 8.228751411669325, 8.228751479735958, 8.22875118107322, 8.228751134953997, 8.228751513620981, 8.228751338857307, 8.228751314685496, 8.228751244097879, 8.22875146727932, 8.22875157241928, 8.228751284285368, 8.228751288585874, 8.22875147306276, 8.228751425164017, 8.228751418861552, 8.228751387719955, 8.22875130044934, 8.228751361101304, 8.228751283247314, 8.22875137385453, 8.228751262041369, 8.228751325436763, 8.228751065256139, 8.228751517550753, 8.228751379934556, 8.228751299707872, 8.228751429464523, 8.228751466389559, 8.228751462237346, 8.22875149367553, 8.228751357987145, 8.228751276722408, 8.228751230751481, 8.228751327735308, 8.228751347161733, 8.228751257295984, 8.228751559072883, 8.228751387200928], Accuracy: [0.4665293, 0.4665293, 0.4665293, 0.4665293, 0.4665293, 0.4665293, 0.4665293, 0.4665293, 0.4665293, 0.4665293, 0.4665293, 0.4665293, 0.4665293, 0.4665293, 0.4665293, 0.4665293, 0.4665293, 0.4665293, 0.4665293, 0.4665293, 0.4665293, 0.4665293, 0.4665293, 0.4665293, 0.4665293, 0.4665293, 0.4665293, 0.4665293, 0.4665293, 0.4665293, 0.4665293, 0.4665293, 0.4665293, 0.4665293, 0.4665293, 0.4665293, 0.4665293, 0.4665293, 0.4665293, 0.4665293, 0.4665293, 0.4665293, 0.4665293, 0.4665293, 0.4665293, 0.4665293, 0.4665293, 0.4665293, 0.4665293, 0.4665293]\n"
     ]
    }
   ],
   "source": [
    "print(\"Original Model Results\")\n",
    "\n",
    "# Evaluate the model loss and accuracy metrics using the evaluate method and the test data\n",
    "model_loss, model_accuracy = model_train.history[\"loss\"], model_train.history[\"accuracy\"]\n",
    "\n",
    "# Display the model loss and accuracy results\n",
    "print(f\"Loss: {model_loss}, Accuracy: {model_accuracy}\")"
   ]
  },
  {
   "cell_type": "code",
   "execution_count": 158,
   "metadata": {},
   "outputs": [
    {
     "name": "stdout",
     "output_type": "stream",
     "text": [
      "Alternative Model 1 Results\n",
      "Loss: [0.6909237614854686, 0.6909107293390854, 0.6909227765027258, 0.69092892393727, 0.6909161739745309, 0.6909226811130502, 0.69091599397425, 0.6909650420812625, 0.690959562550546, 0.690948275974056, 0.6909146250137699, 0.690930533207069, 0.6909285839563061, 0.6909065248991798, 0.6909173476975918, 0.6909183450442898, 0.6909303864059543, 0.6909502052793679, 0.6909225660837784, 0.69092847739829, 0.6909227628968141, 0.690917311995976, 0.6909141311692221, 0.6909171129121989, 0.6909264354456678, 0.6909194064907738, 0.6909219810759144, 0.6909367716102944, 0.6909329558564389, 0.6909153903092331, 0.6909269525259246, 0.6909132635142974, 0.6909229445005164, 0.6909338508622122, 0.690928477648535, 0.6909282356523796, 0.690914252315593, 0.6909129827765131, 0.6909458134430524, 0.6908965018188169, 0.6909612743095631, 0.6909147503679638, 0.6909256173763207, 0.6909290621002991, 0.690920471431419, 0.6909502395814656, 0.6909345798072761, 0.6909080569452343, 0.6909292847719817, 0.6909103364359441], Accuracy: [0.5334707, 0.5334707, 0.5334707, 0.5334707, 0.5334707, 0.5334707, 0.5334707, 0.5334707, 0.5334707, 0.5334707, 0.5334707, 0.5334707, 0.5334707, 0.5334707, 0.5334707, 0.5334707, 0.5334707, 0.5334707, 0.5334707, 0.5334707, 0.5334707, 0.5334707, 0.5334707, 0.5334707, 0.5334707, 0.5334707, 0.5334707, 0.5334707, 0.5334707, 0.5334707, 0.5334707, 0.5334707, 0.5334707, 0.5334707, 0.5334707, 0.5334707, 0.5334707, 0.5334707, 0.5334707, 0.5334707, 0.5334707, 0.5334707, 0.5334707, 0.5334707, 0.5334707, 0.5334707, 0.5334707, 0.5334707, 0.5334707, 0.5334707]\n"
     ]
    }
   ],
   "source": [
    "print(\"Alternative Model 1 Results\")\n",
    "\n",
    "# Evaluate the model loss and accuracy metrics using the evaluate method and the test data\n",
    "model_loss, model_accuracy = fit_model_A1.history[\"loss\"], fit_model_A1.history[\"accuracy\"]\n",
    "\n",
    "# Display the model loss and accuracy results\n",
    "print(f\"Loss: {model_loss}, Accuracy: {model_accuracy}\")"
   ]
  },
  {
   "cell_type": "code",
   "execution_count": 159,
   "metadata": {},
   "outputs": [
    {
     "name": "stdout",
     "output_type": "stream",
     "text": [
      "Alternative Model 2 Results\n",
      "Loss: [0.6909139199902714, 0.6909082181864107, 0.6909059261000373, 0.6909105376143642, 0.6909099011301828, 0.6909084609147642, 0.6909068990988265, 0.6909058026551199, 0.6909066220961801, 0.6909064608828088, 0.6909072612218363, 0.6909076447268886, 0.6909145842053029, 0.6909195882798428, 0.6909105636120362, 0.6909189554381159, 0.6909059146999886, 0.690905952422101, 0.6909073533675957, 0.6909081188206205, 0.6909064490842218, 0.690909561686782, 0.6909078870752406, 0.6909068255916834, 0.6909087358598408, 0.6909063010040774, 0.6909066887169525, 0.6909077669391178, 0.6909073701803504, 0.6909061183159801, 0.6909068329970808, 0.6909086695171185, 0.6909081942277717, 0.6909059424308388, 0.6909067185887874, 0.6909076833758342, 0.6909057216035543, 0.6909060417039457, 0.6909060539844859, 0.6909062596580471, 0.6909080511247216, 0.6909113649149702, 0.6909063096050897, 0.6909061362965447, 0.690914592741437, 0.690907364980816, 0.6909111771663635, 0.6909234895711367, 0.6909072227953308, 0.6909062316862203], Accuracy: [0.5334707, 0.5334707, 0.5334707, 0.5334707, 0.5334707, 0.5334707, 0.5334707, 0.5334707, 0.5334707, 0.5334707, 0.5334707, 0.5334707, 0.5334707, 0.5334707, 0.5334707, 0.5334707, 0.5334707, 0.5334707, 0.5334707, 0.5334707, 0.5334707, 0.5334707, 0.5334707, 0.5334707, 0.5334707, 0.5334707, 0.5334707, 0.5334707, 0.5334707, 0.5334707, 0.5334707, 0.5334707, 0.5334707, 0.5334707, 0.5334707, 0.5334707, 0.5334707, 0.5334707, 0.5334707, 0.5334707, 0.5334707, 0.5334707, 0.5334707, 0.5334707, 0.5334707, 0.5334707, 0.5334707, 0.5334707, 0.5334707, 0.5334707]\n"
     ]
    }
   ],
   "source": [
    "print(\"Alternative Model 2 Results\")\n",
    "\n",
    "# Evaluate the model loss and accuracy metrics using the evaluate method and the test data\n",
    "model_loss, model_accuracy = fit_model_A2.history[\"loss\"], fit_model_A2.history[\"accuracy\"]\n",
    "\n",
    "# Display the model loss and accuracy results\n",
    "print(f\"Loss: {model_loss}, Accuracy: {model_accuracy}\")"
   ]
  },
  {
   "cell_type": "markdown",
   "metadata": {},
   "source": [
    "### Step 3: Save each of your alternative models as an HDF5 file.\n"
   ]
  },
  {
   "cell_type": "code",
   "execution_count": 160,
   "metadata": {},
   "outputs": [
    {
     "data": {
      "text/plain": [
       "'AlphabetSoup.h5'"
      ]
     },
     "execution_count": 160,
     "metadata": {},
     "output_type": "execute_result"
    }
   ],
   "source": [
    "file_path"
   ]
  },
  {
   "cell_type": "code",
   "execution_count": 162,
   "metadata": {},
   "outputs": [],
   "source": [
    "# Set the file path for the first alternative model\n",
    "file_path = \"AltModel01.h5\"\n",
    "\n",
    "# Export your model to a HDF5 file\n",
    "nn_A1.save(file_path)"
   ]
  },
  {
   "cell_type": "code",
   "execution_count": 163,
   "metadata": {},
   "outputs": [],
   "source": [
    "# Set the file path for the second alternative model\n",
    "file_path = \"AltModel02.h5\"\n",
    "\n",
    "# Export your model to a HDF5 file\n",
    "nn_A2.save(file_path)\n"
   ]
  },
  {
   "cell_type": "code",
   "execution_count": null,
   "metadata": {},
   "outputs": [],
   "source": []
  }
 ],
 "metadata": {
  "kernelspec": {
   "display_name": "Python 3 (ipykernel)",
   "language": "python",
   "name": "python3"
  },
  "language_info": {
   "codemirror_mode": {
    "name": "ipython",
    "version": 3
   },
   "file_extension": ".py",
   "mimetype": "text/x-python",
   "name": "python",
   "nbconvert_exporter": "python",
   "pygments_lexer": "ipython3",
   "version": "3.9.12"
  },
  "vscode": {
   "interpreter": {
    "hash": "050dbef497f06152ec743b2a2b689bd8ad7ab7808b576e1514a69fc0097fa64a"
   }
  }
 },
 "nbformat": 4,
 "nbformat_minor": 4
}
